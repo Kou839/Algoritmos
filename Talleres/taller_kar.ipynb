{
  "nbformat": 4,
  "nbformat_minor": 0,
  "metadata": {
    "colab": {
      "name": "Untitled6.ipynb",
      "provenance": []
    },
    "kernelspec": {
      "name": "python3",
      "display_name": "Python 3"
    }
  },
  "cells": [
    {
      "cell_type": "code",
      "metadata": {
        "id": "_7AWEhKN_q_K",
        "outputId": "6e20931b-650d-4ccb-a61d-cd98fd3c10d6",
        "colab": {
          "base_uri": "https://localhost:8080/",
          "height": 1000
        }
      },
      "source": [
        "import sklearn\n",
        "from sklearn.datasets import load_iris\n",
        "from sklearn.model_selection import train_test_split\n",
        "\n",
        "iris= load_iris() \n",
        "print(iris.keys())\n",
        "print(iris['data'])\n",
        "print(iris['target_names'])\n",
        "print(iris['target'])\n",
        "print(iris['feature_names'])"
      ],
      "execution_count": 1,
      "outputs": [
        {
          "output_type": "stream",
          "text": [
            "dict_keys(['data', 'target', 'target_names', 'DESCR', 'feature_names', 'filename'])\n",
            "[[5.1 3.5 1.4 0.2]\n",
            " [4.9 3.  1.4 0.2]\n",
            " [4.7 3.2 1.3 0.2]\n",
            " [4.6 3.1 1.5 0.2]\n",
            " [5.  3.6 1.4 0.2]\n",
            " [5.4 3.9 1.7 0.4]\n",
            " [4.6 3.4 1.4 0.3]\n",
            " [5.  3.4 1.5 0.2]\n",
            " [4.4 2.9 1.4 0.2]\n",
            " [4.9 3.1 1.5 0.1]\n",
            " [5.4 3.7 1.5 0.2]\n",
            " [4.8 3.4 1.6 0.2]\n",
            " [4.8 3.  1.4 0.1]\n",
            " [4.3 3.  1.1 0.1]\n",
            " [5.8 4.  1.2 0.2]\n",
            " [5.7 4.4 1.5 0.4]\n",
            " [5.4 3.9 1.3 0.4]\n",
            " [5.1 3.5 1.4 0.3]\n",
            " [5.7 3.8 1.7 0.3]\n",
            " [5.1 3.8 1.5 0.3]\n",
            " [5.4 3.4 1.7 0.2]\n",
            " [5.1 3.7 1.5 0.4]\n",
            " [4.6 3.6 1.  0.2]\n",
            " [5.1 3.3 1.7 0.5]\n",
            " [4.8 3.4 1.9 0.2]\n",
            " [5.  3.  1.6 0.2]\n",
            " [5.  3.4 1.6 0.4]\n",
            " [5.2 3.5 1.5 0.2]\n",
            " [5.2 3.4 1.4 0.2]\n",
            " [4.7 3.2 1.6 0.2]\n",
            " [4.8 3.1 1.6 0.2]\n",
            " [5.4 3.4 1.5 0.4]\n",
            " [5.2 4.1 1.5 0.1]\n",
            " [5.5 4.2 1.4 0.2]\n",
            " [4.9 3.1 1.5 0.2]\n",
            " [5.  3.2 1.2 0.2]\n",
            " [5.5 3.5 1.3 0.2]\n",
            " [4.9 3.6 1.4 0.1]\n",
            " [4.4 3.  1.3 0.2]\n",
            " [5.1 3.4 1.5 0.2]\n",
            " [5.  3.5 1.3 0.3]\n",
            " [4.5 2.3 1.3 0.3]\n",
            " [4.4 3.2 1.3 0.2]\n",
            " [5.  3.5 1.6 0.6]\n",
            " [5.1 3.8 1.9 0.4]\n",
            " [4.8 3.  1.4 0.3]\n",
            " [5.1 3.8 1.6 0.2]\n",
            " [4.6 3.2 1.4 0.2]\n",
            " [5.3 3.7 1.5 0.2]\n",
            " [5.  3.3 1.4 0.2]\n",
            " [7.  3.2 4.7 1.4]\n",
            " [6.4 3.2 4.5 1.5]\n",
            " [6.9 3.1 4.9 1.5]\n",
            " [5.5 2.3 4.  1.3]\n",
            " [6.5 2.8 4.6 1.5]\n",
            " [5.7 2.8 4.5 1.3]\n",
            " [6.3 3.3 4.7 1.6]\n",
            " [4.9 2.4 3.3 1. ]\n",
            " [6.6 2.9 4.6 1.3]\n",
            " [5.2 2.7 3.9 1.4]\n",
            " [5.  2.  3.5 1. ]\n",
            " [5.9 3.  4.2 1.5]\n",
            " [6.  2.2 4.  1. ]\n",
            " [6.1 2.9 4.7 1.4]\n",
            " [5.6 2.9 3.6 1.3]\n",
            " [6.7 3.1 4.4 1.4]\n",
            " [5.6 3.  4.5 1.5]\n",
            " [5.8 2.7 4.1 1. ]\n",
            " [6.2 2.2 4.5 1.5]\n",
            " [5.6 2.5 3.9 1.1]\n",
            " [5.9 3.2 4.8 1.8]\n",
            " [6.1 2.8 4.  1.3]\n",
            " [6.3 2.5 4.9 1.5]\n",
            " [6.1 2.8 4.7 1.2]\n",
            " [6.4 2.9 4.3 1.3]\n",
            " [6.6 3.  4.4 1.4]\n",
            " [6.8 2.8 4.8 1.4]\n",
            " [6.7 3.  5.  1.7]\n",
            " [6.  2.9 4.5 1.5]\n",
            " [5.7 2.6 3.5 1. ]\n",
            " [5.5 2.4 3.8 1.1]\n",
            " [5.5 2.4 3.7 1. ]\n",
            " [5.8 2.7 3.9 1.2]\n",
            " [6.  2.7 5.1 1.6]\n",
            " [5.4 3.  4.5 1.5]\n",
            " [6.  3.4 4.5 1.6]\n",
            " [6.7 3.1 4.7 1.5]\n",
            " [6.3 2.3 4.4 1.3]\n",
            " [5.6 3.  4.1 1.3]\n",
            " [5.5 2.5 4.  1.3]\n",
            " [5.5 2.6 4.4 1.2]\n",
            " [6.1 3.  4.6 1.4]\n",
            " [5.8 2.6 4.  1.2]\n",
            " [5.  2.3 3.3 1. ]\n",
            " [5.6 2.7 4.2 1.3]\n",
            " [5.7 3.  4.2 1.2]\n",
            " [5.7 2.9 4.2 1.3]\n",
            " [6.2 2.9 4.3 1.3]\n",
            " [5.1 2.5 3.  1.1]\n",
            " [5.7 2.8 4.1 1.3]\n",
            " [6.3 3.3 6.  2.5]\n",
            " [5.8 2.7 5.1 1.9]\n",
            " [7.1 3.  5.9 2.1]\n",
            " [6.3 2.9 5.6 1.8]\n",
            " [6.5 3.  5.8 2.2]\n",
            " [7.6 3.  6.6 2.1]\n",
            " [4.9 2.5 4.5 1.7]\n",
            " [7.3 2.9 6.3 1.8]\n",
            " [6.7 2.5 5.8 1.8]\n",
            " [7.2 3.6 6.1 2.5]\n",
            " [6.5 3.2 5.1 2. ]\n",
            " [6.4 2.7 5.3 1.9]\n",
            " [6.8 3.  5.5 2.1]\n",
            " [5.7 2.5 5.  2. ]\n",
            " [5.8 2.8 5.1 2.4]\n",
            " [6.4 3.2 5.3 2.3]\n",
            " [6.5 3.  5.5 1.8]\n",
            " [7.7 3.8 6.7 2.2]\n",
            " [7.7 2.6 6.9 2.3]\n",
            " [6.  2.2 5.  1.5]\n",
            " [6.9 3.2 5.7 2.3]\n",
            " [5.6 2.8 4.9 2. ]\n",
            " [7.7 2.8 6.7 2. ]\n",
            " [6.3 2.7 4.9 1.8]\n",
            " [6.7 3.3 5.7 2.1]\n",
            " [7.2 3.2 6.  1.8]\n",
            " [6.2 2.8 4.8 1.8]\n",
            " [6.1 3.  4.9 1.8]\n",
            " [6.4 2.8 5.6 2.1]\n",
            " [7.2 3.  5.8 1.6]\n",
            " [7.4 2.8 6.1 1.9]\n",
            " [7.9 3.8 6.4 2. ]\n",
            " [6.4 2.8 5.6 2.2]\n",
            " [6.3 2.8 5.1 1.5]\n",
            " [6.1 2.6 5.6 1.4]\n",
            " [7.7 3.  6.1 2.3]\n",
            " [6.3 3.4 5.6 2.4]\n",
            " [6.4 3.1 5.5 1.8]\n",
            " [6.  3.  4.8 1.8]\n",
            " [6.9 3.1 5.4 2.1]\n",
            " [6.7 3.1 5.6 2.4]\n",
            " [6.9 3.1 5.1 2.3]\n",
            " [5.8 2.7 5.1 1.9]\n",
            " [6.8 3.2 5.9 2.3]\n",
            " [6.7 3.3 5.7 2.5]\n",
            " [6.7 3.  5.2 2.3]\n",
            " [6.3 2.5 5.  1.9]\n",
            " [6.5 3.  5.2 2. ]\n",
            " [6.2 3.4 5.4 2.3]\n",
            " [5.9 3.  5.1 1.8]]\n",
            "['setosa' 'versicolor' 'virginica']\n",
            "[0 0 0 0 0 0 0 0 0 0 0 0 0 0 0 0 0 0 0 0 0 0 0 0 0 0 0 0 0 0 0 0 0 0 0 0 0\n",
            " 0 0 0 0 0 0 0 0 0 0 0 0 0 1 1 1 1 1 1 1 1 1 1 1 1 1 1 1 1 1 1 1 1 1 1 1 1\n",
            " 1 1 1 1 1 1 1 1 1 1 1 1 1 1 1 1 1 1 1 1 1 1 1 1 1 1 2 2 2 2 2 2 2 2 2 2 2\n",
            " 2 2 2 2 2 2 2 2 2 2 2 2 2 2 2 2 2 2 2 2 2 2 2 2 2 2 2 2 2 2 2 2 2 2 2 2 2\n",
            " 2 2]\n",
            "['sepal length (cm)', 'sepal width (cm)', 'petal length (cm)', 'petal width (cm)']\n"
          ],
          "name": "stdout"
        }
      ]
    },
    {
      "cell_type": "code",
      "metadata": {
        "id": "FGN3aD4eA0Wi",
        "outputId": "aded050c-7289-477d-bc48-21c8213c3a83",
        "colab": {
          "base_uri": "https://localhost:8080/",
          "height": 102
        }
      },
      "source": [
        "datosEntrenamiento, datosPrueba,respuestaEntrenamiento,respuestaPrueba=train_test_split(iris['data'],iris['target'])\n",
        "print(datosEntrenamiento.shape)\n",
        "print(respuestaEntrenamiento)"
      ],
      "execution_count": 3,
      "outputs": [
        {
          "output_type": "stream",
          "text": [
            "(112, 4)\n",
            "[1 1 1 0 2 1 0 2 0 0 1 2 1 2 1 2 1 1 2 0 1 1 1 0 2 0 1 1 0 2 2 0 1 2 1 1 0\n",
            " 0 0 1 1 0 2 1 0 2 2 2 1 0 2 1 2 0 2 1 0 0 0 1 0 1 0 2 1 2 0 2 0 0 2 2 0 1\n",
            " 2 1 1 1 0 1 2 2 0 2 2 2 2 1 0 1 0 1 2 2 0 0 1 0 2 1 1 2 2 1 1 2 0 2 0 0 0\n",
            " 2]\n"
          ],
          "name": "stdout"
        }
      ]
    },
    {
      "cell_type": "code",
      "metadata": {
        "id": "ezQirPL8BRro",
        "outputId": "bafda776-484f-46a6-deac-45fe8873bbf0",
        "colab": {
          "base_uri": "https://localhost:8080/",
          "height": 85
        }
      },
      "source": [
        "from sklearn.neighbors import KNeighborsClassifier \n",
        "lista_knn= []  \n",
        "scores_knn= [] \n",
        "lista_knn.append(KNeighborsClassifier(n_neighbors=3))\n",
        "lista_knn.append(KNeighborsClassifier(n_neighbors=10))\n",
        "lista_knn.append(KNeighborsClassifier(n_neighbors=76)) \n",
        "for elemento in lista_knn: \n",
        "  elemento.fit(datosEntrenamiento, respuestaEntrenamiento)\n",
        "  scores_knn.append(elemento.score(datosPrueba,respuestaPrueba)*100)\n",
        "  print(elemento.score(datosPrueba,respuestaPrueba)*100)\n",
        "print(scores_knn)"
      ],
      "execution_count": 7,
      "outputs": [
        {
          "output_type": "stream",
          "text": [
            "86.8421052631579\n",
            "92.10526315789474\n",
            "31.57894736842105\n",
            "[86.8421052631579, 92.10526315789474, 31.57894736842105]\n"
          ],
          "name": "stdout"
        }
      ]
    },
    {
      "cell_type": "code",
      "metadata": {
        "id": "NyHx6T5AHkbG",
        "outputId": "adb712a5-236c-44ad-89f9-59a228e889df",
        "colab": {
          "base_uri": "https://localhost:8080/",
          "height": 312
        }
      },
      "source": [
        "import matplotlib.pyplot as plt \n",
        "vecinos= [\"vecino 3\", \"vecino 10\", \"vecino 76\"]  \n",
        "plt.bar(vecinos,scores_knn)\n",
        "plt.ylabel(\"Porcentaje\")\n",
        "plt.xlabel(\"Vecinos\")\n",
        "plt.title(\"Comparacion clasificadores\")\n",
        "plt.show()\n",
        "plt.savefig(\"GraficoPunto1.png\")"
      ],
      "execution_count": 8,
      "outputs": [
        {
          "output_type": "display_data",
          "data": {
            "image/png": "[encoded data removed]",
            "text/plain": [
              "<Figure size 432x288 with 1 Axes>"
            ]
          },
          "metadata": {
            "tags": [],
            "needs_background": "light"
          }
        },
        {
          "output_type": "display_data",
          "data": {
            "text/plain": [
              "<Figure size 432x288 with 0 Axes>"
            ]
          },
          "metadata": {
            "tags": []
          }
        }
      ]
    },
    {
      "cell_type": "markdown",
      "metadata": {
        "id": "LtRgP3v-O_DW"
      },
      "source": [
        "Punto 2\n"
      ]
    },
    {
      "cell_type": "code",
      "metadata": {
        "id": "_s6trBTjPAuE",
        "outputId": "4b9dc27a-d273-416e-e1ae-d3b888eb4808",
        "colab": {
          "base_uri": "https://localhost:8080/",
          "height": 34
        }
      },
      "source": [
        "from sklearn.datasets import load_iris  \n",
        "from sklearn.model_selection import train_test_split\n",
        "from sklearn.tree import  DecisionTreeClassifier \n",
        "\n",
        "iris = load_iris()\n",
        "\n",
        "resultado= train_test_split(iris['data'], iris['target'])\n",
        "datosEntrenamiento = resultado[0]\n",
        "datosPrueba = resultado[1]\n",
        "respuestasEntrenamiento =resultado[2]\n",
        "respuestasPrueba = resultado[3]\n",
        "\n",
        "arbol3 = DecisionTreeClassifier(max_depth=3)\n",
        "arbol3.fit(datosEntrenamiento,respuestasEntrenamiento)\n",
        "arbol5 = DecisionTreeClassifier(max_depth=5)\n",
        "arbol5.fit(datosEntrenamiento,respuestasEntrenamiento)\n",
        "arbol76 = DecisionTreeClassifier(max_depth=76)\n",
        "arbol76.fit(datosEntrenamiento,respuestasEntrenamiento)\n",
        "\n",
        "scores_arboles= [] \n",
        "\n",
        "scores_arboles.append(arbol3.score(datosPrueba, respuestasPrueba)*100)\n",
        "scores_arboles.append(arbol5.score(datosPrueba, respuestasPrueba)*100)\n",
        "scores_arboles.append(arbol76.score(datosPrueba, respuestasPrueba)*100) \n",
        "\n",
        "print(scores_arboles)\n"
      ],
      "execution_count": 9,
      "outputs": [
        {
          "output_type": "stream",
          "text": [
            "[97.36842105263158, 94.73684210526315, 94.73684210526315]\n"
          ],
          "name": "stdout"
        }
      ]
    },
    {
      "cell_type": "code",
      "metadata": {
        "id": "Eh-MxsMxPD6B",
        "outputId": "5a078f1e-f974-42c2-dcf1-4b8e018d3807",
        "colab": {
          "base_uri": "https://localhost:8080/",
          "height": 312
        }
      },
      "source": [
        "import matplotlib.pyplot as plt \n",
        "profundidad= [\"3\", \"5\", \"76\"]  \n",
        "plt.bar(profundidad,scores_arboles)\n",
        "plt.ylabel(\"Porcentaje\")\n",
        "plt.xlabel(\"Profundidad\")\n",
        "plt.title(\"Comparacion clasificadores arbol de desiciones\")\n",
        "plt.show()\n",
        "plt.savefig(\"GraficoPunto2.png\")"
      ],
      "execution_count": 11,
      "outputs": [
        {
          "output_type": "display_data",
          "data": {
            "image/png": "[encoded data removed]",
            "text/plain": [
              "<Figure size 432x288 with 1 Axes>"
            ]
          },
          "metadata": {
            "tags": [],
            "needs_background": "light"
          }
        },
        {
          "output_type": "display_data",
          "data": {
            "text/plain": [
              "<Figure size 432x288 with 0 Axes>"
            ]
          },
          "metadata": {
            "tags": []
          }
        }
      ]
    },
    {
      "cell_type": "markdown",
      "metadata": {
        "id": "4pbPd7MTPRoS"
      },
      "source": [
        "Punto 3"
      ]
    },
    {
      "cell_type": "code",
      "metadata": {
        "id": "bfI1Cn0TPUyi",
        "outputId": "941db34c-e4dc-4312-a84f-cf874b922000",
        "colab": {
          "base_uri": "https://localhost:8080/",
          "height": 85
        }
      },
      "source": [
        "import sklearn\n",
        "from sklearn.datasets import load_iris\n",
        "from sklearn.neighbors import KNeighborsClassifier\n",
        "from sklearn.model_selection import train_test_split\n",
        "iris=load_iris()\n",
        "\n",
        "datosEntrenamiento, datosPrueba,respuestaEntrenamiento,respuestaPrueba=train_test_split(iris['data'],iris['target'])\n",
        "lista_knn1= []\n",
        "scores_knn1= []\n",
        "lista_knn1.append(KNeighborsClassifier(n_neighbors=3))\n",
        "lista_knn1.append(KNeighborsClassifier(n_neighbors=8))\n",
        "lista_knn1.append(KNeighborsClassifier(n_neighbors=27))\n",
        "for elemento in lista_knn1: \n",
        "  elemento.fit(datosEntrenamiento, respuestaEntrenamiento)\n",
        "  scores_knn1.append(elemento.score(datosPrueba,respuestaPrueba)*100)  \n",
        "  print(elemento.score(datosPrueba,respuestaPrueba)*100)\n",
        "print(scores_knn1)"
      ],
      "execution_count": 15,
      "outputs": [
        {
          "output_type": "stream",
          "text": [
            "100.0\n",
            "97.36842105263158\n",
            "97.36842105263158\n",
            "[100.0, 97.36842105263158, 97.36842105263158]\n"
          ],
          "name": "stdout"
        }
      ]
    },
    {
      "cell_type": "code",
      "metadata": {
        "id": "qrO_cxjIRYTS",
        "outputId": "883d5bf1-e664-4ff5-aa2c-1f50b94fa3a5",
        "colab": {
          "base_uri": "https://localhost:8080/",
          "height": 34
        }
      },
      "source": [
        "arbol= DecisionTreeClassifier(max_depth=5) \n",
        "arbol.fit(datosEntrenamiento, respuestaEntrenamiento)\n",
        "scoreTree= arbol.score(datosPrueba, respuestaPrueba)*100\n",
        "print(scoreTree)"
      ],
      "execution_count": 19,
      "outputs": [
        {
          "output_type": "stream",
          "text": [
            "100.0\n"
          ],
          "name": "stdout"
        }
      ]
    },
    {
      "cell_type": "code",
      "metadata": {
        "id": "_9mn_fQ1SUHx",
        "outputId": "a66c73b7-75ae-469f-cb82-b22f4bd5d14e",
        "colab": {
          "base_uri": "https://localhost:8080/",
          "height": 68
        }
      },
      "source": [
        "from sklearn.neural_network import  MLPClassifier\n",
        "redNeuronal = MLPClassifier(max_iter=60, hidden_layer_sizes=[66,66])\n",
        "redNeuronal.fit(datosEntrenamiento,respuestasEntrenamiento)\n",
        "score = redNeuronal.score(datosPrueba,respuestaPrueba)*100\n",
        "print (score)"
      ],
      "execution_count": 21,
      "outputs": [
        {
          "output_type": "stream",
          "text": [
            "31.57894736842105\n"
          ],
          "name": "stdout"
        },
        {
          "output_type": "stream",
          "text": [
            "/usr/local/lib/python3.6/dist-packages/sklearn/neural_network/_multilayer_perceptron.py:571: ConvergenceWarning: Stochastic Optimizer: Maximum iterations (60) reached and the optimization hasn't converged yet.\n",
            "  % self.max_iter, ConvergenceWarning)\n"
          ],
          "name": "stderr"
        }
      ]
    },
    {
      "cell_type": "code",
      "metadata": {
        "id": "2CWYrRp-SzI1",
        "outputId": "a8dba751-8b4b-4cb1-e5e2-8aa010761805",
        "colab": {
          "base_uri": "https://localhost:8080/",
          "height": 329
        }
      },
      "source": [
        "score_comparador= []\n",
        "score_comparador.append(elemento.score(datosPrueba,respuestaPrueba)*100)\n",
        "score_comparador.append(arbol.score(datosPrueba, respuestaPrueba)*100)\n",
        "score_comparador.append(redNeuronal.score(datosPrueba,respuestaPrueba)*100) \n",
        "\n",
        "print(\"el puntaje maximo fue\", max(score_comparador))\n",
        "import matplotlib.pyplot as plt\n",
        "comparador= [\"knn\", \"Arbol\", \"Red neuronal\"] \n",
        "plt.ylabel(\"Porcentaje\")\n",
        "plt.xlabel(\"Comparador\")\n",
        "plt.title(\"Comparacion de los 3 elementos\")\n",
        "plt.show()\n",
        "plt.savefig(\"GraficoPunto3.png\")\n"
      ],
      "execution_count": 28,
      "outputs": [
        {
          "output_type": "stream",
          "text": [
            "el puntaje maximo fue 100.0\n"
          ],
          "name": "stdout"
        },
        {
          "output_type": "display_data",
          "data": {
            "image/png": "[encoded data removed]",
            "text/plain": [
              "<Figure size 432x288 with 1 Axes>"
            ]
          },
          "metadata": {
            "tags": [],
            "needs_background": "light"
          }
        },
        {
          "output_type": "display_data",
          "data": {
            "text/plain": [
              "<Figure size 432x288 with 0 Axes>"
            ]
          },
          "metadata": {
            "tags": []
          }
        }
      ]
    }
  ]
}