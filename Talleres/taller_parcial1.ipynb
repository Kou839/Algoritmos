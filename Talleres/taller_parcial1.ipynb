{
  "nbformat": 4,
  "nbformat_minor": 0,
  "metadata": {
    "colab": {
      "name": "Untitled4.ipynb",
      "provenance": []
    },
    "kernelspec": {
      "name": "python3",
      "display_name": "Python 3"
    }
  },
  "cells": [
    {
      "cell_type": "code",
      "metadata": {
        "id": "YDyTgwDeqdZz",
        "colab_type": "code",
        "colab": {
          "base_uri": "https://localhost:8080/",
          "height": 34
        },
        "outputId": "4628a10d-e38f-4a79-c04f-dbe2b2822cec"
      },
      "source": [
        "import requests \n",
        "url= 'https://listado.mercadolibre.com.co/figuras-anime#D[A:figuras%20anime]' \n",
        "response= requests.get (url)\n",
        "print(response)\n"
      ],
      "execution_count": 1,
      "outputs": [
        {
          "output_type": "stream",
          "text": [
            "<Response [200]>\n"
          ],
          "name": "stdout"
        }
      ]
    },
    {
      "cell_type": "code",
      "metadata": {
        "id": "PpatEn21rkrS",
        "colab_type": "code",
        "colab": {
          "base_uri": "https://localhost:8080/",
          "height": 105
        },
        "outputId": "10d8d6b4-a161-4a04-c664-72b6f27c9bf8"
      },
      "source": [
        "import bs4\n",
        "parseo = bs4.BeautifulSoup (response.text, 'html.parser')\n",
        "getDataSelect= lambda clase: parseo.select(clase) \n",
        "dataTitle= parseo.select('.ui-search-item__title')\n",
        "dataPrice= getDataSelect('.price-tag-fraction')\n",
        "print(dataTitle)\n",
        "print(dataPrice)\n",
        "\n",
        "namaeFiguras= [] \n",
        "extraerTexto= lambda elemento: elemento.text \n",
        "funcionListaDatos= lambda funcion, data: list (map(funcion, data))\n",
        "namaeFiguras= funcionListaDatos(extraerTexto, dataTitle)\n",
        "print(namaeFiguras)\n",
        "\n",
        "listaPrecios= funcionListaDatos(extraerTexto, dataTitle) \n",
        "print(listaPrecios)\n"
      ],
      "execution_count": 2,
      "outputs": [
        {
          "output_type": "stream",
          "text": [
            "[<h2 class=\"ui-search-item__title\">Alcancía Animada No Face Viaje Chihiro Kaonashi Anime</h2>, <h2 class=\"ui-search-item__title\">Accesorio * Agenda Death Note * Anime **</h2>, <h2 class=\"ui-search-item__title\">Alcancia De Gato O Panda Roba Monedas Animada Electronica</h2>, <h2 class=\"ui-search-item__title\">Alcancia De Gato O Panda Roba Monedas Animada Electronica</h2>, <h2 class=\"ui-search-item__title\">Alcancia De Gato O Panda Roba Monedas Animada Electronica</h2>, <h2 class=\"ui-search-item__title\">Death Note Libreta + Pluma + Cd Ost Live Action Serie Anime</h2>, <h2 class=\"ui-search-item__title\">Agenda Death Note Con Cd Y Pluma Anime + Obsequio </h2>, <h2 class=\"ui-search-item__title\">Esfera Del Dragon Llavero Anime Cosplay Goku</h2>, <h2 class=\"ui-search-item__title\">Cardcaptor Sakura Kinomoto Sakura Figura Precio Unidad Caja</h2>, <h2 class=\"ui-search-item__title\">Alcancía Animada No Face Viaje Chihiro Kaonashi Anime</h2>, <h2 class=\"ui-search-item__title\">Figura Ryuk  + Agenda Death Note Anime Colección</h2>, <h2 class=\"ui-search-item__title\">Alcancía Animada No Face Viaje Chihiro Kaonashi Anime</h2>, <h2 class=\"ui-search-item__title\">Reloj Set Anime De Full Metal Alchemist, Fullmetal Colección</h2>, <h2 class=\"ui-search-item__title\">Naruto Bandana Hoja  Tachada Coleccion </h2>, <h2 class=\"ui-search-item__title\">Captain Tsubasa Super Campeones Oliver Atom Figura Panini</h2>, <h2 class=\"ui-search-item__title\">Set Accesorios Naruto, Anime, Colección</h2>, <h2 class=\"ui-search-item__title\">Captain Tsubasa Super Campeones Benji Price Figura Panini</h2>, <h2 class=\"ui-search-item__title\">Anillo Itachi - Anime Naruto Anillo Akatsuki  </h2>, <h2 class=\"ui-search-item__title\">Gorra O Cachuca De Asuka Del Anime Evangelion Orejas De Gato</h2>, <h2 class=\"ui-search-item__title\">Gorra O Cachuca De Ash Ketchum Del Anime Pokemon Cosplay</h2>, <h2 class=\"ui-search-item__title\">Naruto Coleccion Set X 6 Tam 6 Cm Anime Obs Afiche  Ajd </h2>, <h2 class=\"ui-search-item__title\">Captain Tsubasa Super Campeones Oliver &amp; Tom Figura Panini</h2>, <h2 class=\"ui-search-item__title\">Naruto Anillo Itachi De Colección Anime Cosplay</h2>, <h2 class=\"ui-search-item__title\">Funko Pop Vinyl - Anime - Hunter X Hunter</h2>, <h2 class=\"ui-search-item__title\">Kunai Ninja Del Anime Naruto Cosplay Plastico Manga Juguete</h2>, <h2 class=\"ui-search-item__title\">Shenlong Dragón Ball Z Colección Figura Anime 12 Cm</h2>, <h2 class=\"ui-search-item__title\">Figura L  Death Note Nendoroid Anime Coleccion</h2>, <h2 class=\"ui-search-item__title\">Figura Luffy One Piece , Anime , Coleccion</h2>, <h2 class=\"ui-search-item__title\">Colección X 6 Figuras Sailor Moon Anime, Coleccion Sofitoys</h2>, <h2 class=\"ui-search-item__title\">Figuras Anime Death Note Set X 6 Kira  Riuk + Regalo Y Envio</h2>, <h2 class=\"ui-search-item__title\">Figuras Dragón Ball Boda Goku Y Milk -- Anime - Coleccion </h2>, <h2 class=\"ui-search-item__title\">Gorra O Cachuca De Kujo Jotaro Del Anime Jojo S Bizarre</h2>, <h2 class=\"ui-search-item__title\">Figura Goku Alas Dragon Ball - Anime 15 Cm Aprox</h2>, <h2 class=\"ui-search-item__title\">Figura Goku Dragon Ball Super The Movie  The 20 Th Film </h2>, <h2 class=\"ui-search-item__title\">Figura Goku Niño En Nube Voladora Envió Gratis </h2>, <h2 class=\"ui-search-item__title\">Captain Tsubasa Super Campeones Atajada Benji Figura Panini</h2>, <h2 class=\"ui-search-item__title\">Figura Goku Bebe  -- Dragon Ball -  Coleccion</h2>, <h2 class=\"ui-search-item__title\">Figura Naruto Shippuden Tercer Hokage Sarutobi Hiruzen</h2>, <h2 class=\"ui-search-item__title\">Figura Naruto Kurama Shukaku Colección X 2 Figuras + Envió </h2>, <h2 class=\"ui-search-item__title\">Figura Dragon Ball Z Resolution Of Soldiers Goku Vegeta </h2>, <h2 class=\"ui-search-item__title\">Sakura Card Captor Clow Anime Baraja 55 Cartas Und Ajd 042</h2>, <h2 class=\"ui-search-item__title\">Izuku Midoriya My Hero Academia Mcfarlane Toys Figura</h2>, <h2 class=\"ui-search-item__title\">Funko Pop: Anime - Naruto Shippuden - Kakashi (182)</h2>, <h2 class=\"ui-search-item__title\">Bandana Naruto Aldea De La Hoja Cosplay Anime</h2>, <h2 class=\"ui-search-item__title\">Alcancía De Gato O Panda Roba Monedas Animada Electrónica</h2>, <h2 class=\"ui-search-item__title\">Dakimakura Eromanga Sensei Sagiri Almohada Anime Sexy</h2>, <h2 class=\"ui-search-item__title\">Naruto Bandana Anime Cosplay Konoha Manga</h2>, <h2 class=\"ui-search-item__title\">Monedero Rana Naruto Anime Sapo Naruto</h2>, <h2 class=\"ui-search-item__title\">Figura Shenlong Dragon Ball , Anime Coleccion</h2>, <h2 class=\"ui-search-item__title\">Ikaros Sora No Otoshimono Figura Sexy Anime, Envio Gratis</h2>]\n",
            "[<span class=\"price-tag-fraction\">64.990</span>, <span class=\"price-tag-fraction\">1.805</span>, <span class=\"price-tag-fraction\">17.899</span>, <span class=\"price-tag-fraction\">497</span>, <span class=\"price-tag-fraction\">35.900</span>, <span class=\"price-tag-fraction\">2.992</span>, <span class=\"price-tag-fraction\">35.900</span>, <span class=\"price-tag-fraction\">2.992</span>, <span class=\"price-tag-fraction\">35.900</span>, <span class=\"price-tag-fraction\">2.992</span>, <span class=\"price-tag-fraction\">17.990</span>, <span class=\"price-tag-fraction\">1.499</span>, <span class=\"price-tag-fraction\">17.900</span>, <span class=\"price-tag-fraction\">497</span>, <span class=\"price-tag-fraction\">7.500</span>, <span class=\"price-tag-fraction\">625</span>, <span class=\"price-tag-fraction\">20.000</span>, <span class=\"price-tag-fraction\">555</span>, <span class=\"price-tag-fraction\">70.000</span>, <span class=\"price-tag-fraction\">1.944</span>, <span class=\"price-tag-fraction\">55.999</span>, <span class=\"price-tag-fraction\">1.556</span>, <span class=\"price-tag-fraction\">64.900</span>, <span class=\"price-tag-fraction\">5.408</span>, <span class=\"price-tag-fraction\">50.900</span>, <span class=\"price-tag-fraction\">1.414</span>, <span class=\"price-tag-fraction\">21.999</span>, <span class=\"price-tag-fraction\">611</span>, <span class=\"price-tag-fraction\">70.000</span>, <span class=\"price-tag-fraction\">1.944</span>, <span class=\"price-tag-fraction\">62.999</span>, <span class=\"price-tag-fraction\">1.750</span>, <span class=\"price-tag-fraction\">60.000</span>, <span class=\"price-tag-fraction\">1.667</span>, <span class=\"price-tag-fraction\">14.900</span>, <span class=\"price-tag-fraction\">413</span>, <span class=\"price-tag-fraction\">39.990</span>, <span class=\"price-tag-fraction\">3.332</span>, <span class=\"price-tag-fraction\">24.990</span>, <span class=\"price-tag-fraction\">2.082</span>, <span class=\"price-tag-fraction\">43.500</span>, <span class=\"price-tag-fraction\">1.208</span>, <span class=\"price-tag-fraction\">70.000</span>, <span class=\"price-tag-fraction\">1.944</span>, <span class=\"price-tag-fraction\">12.900</span>, <span class=\"price-tag-fraction\">358</span>, <span class=\"price-tag-fraction\">69.900</span>, <span class=\"price-tag-fraction\">1.942</span>, <span class=\"price-tag-fraction\">27.990</span>, <span class=\"price-tag-fraction\">2.332</span>, <span class=\"price-tag-fraction\">17.900</span>, <span class=\"price-tag-fraction\">497</span>, <span class=\"price-tag-fraction\">70.000</span>, <span class=\"price-tag-fraction\">1.944</span>, <span class=\"price-tag-fraction\">74.999</span>, <span class=\"price-tag-fraction\">2.083</span>, <span class=\"price-tag-fraction\">54.999</span>, <span class=\"price-tag-fraction\">1.528</span>, <span class=\"price-tag-fraction\">86.900</span>, <span class=\"price-tag-fraction\">2.414</span>, <span class=\"price-tag-fraction\">39.900</span>, <span class=\"price-tag-fraction\">1.108</span>, <span class=\"price-tag-fraction\">99.900</span>, <span class=\"price-tag-fraction\">8.325</span>, <span class=\"price-tag-fraction\">40.000</span>, <span class=\"price-tag-fraction\">1.111</span>, <span class=\"price-tag-fraction\">44.999</span>, <span class=\"price-tag-fraction\">1.250</span>, <span class=\"price-tag-fraction\">70.000</span>, <span class=\"price-tag-fraction\">1.944</span>, <span class=\"price-tag-fraction\">60.000</span>, <span class=\"price-tag-fraction\">1.667</span>, <span class=\"price-tag-fraction\">39.999</span>, <span class=\"price-tag-fraction\">1.111</span>, <span class=\"price-tag-fraction\">75.000</span>, <span class=\"price-tag-fraction\">2.083</span>, <span class=\"price-tag-fraction\">78.999</span>, <span class=\"price-tag-fraction\">2.194</span>, <span class=\"price-tag-fraction\">39.900</span>, <span class=\"price-tag-fraction\">1.108</span>, <span class=\"price-tag-fraction\">35.000</span>, <span class=\"price-tag-fraction\">972</span>, <span class=\"price-tag-fraction\">144.900</span>, <span class=\"price-tag-fraction\">4.025</span>, <span class=\"price-tag-fraction\">115.000</span>, <span class=\"price-tag-fraction\">3.194</span>, <span class=\"price-tag-fraction\">24.100</span>, <span class=\"price-tag-fraction\">669</span>, <span class=\"price-tag-fraction\">40.900</span>, <span class=\"price-tag-fraction\">3.408</span>, <span class=\"price-tag-fraction\">52.900</span>, <span class=\"price-tag-fraction\">4.408</span>, <span class=\"price-tag-fraction\">16.990</span>, <span class=\"price-tag-fraction\">1.416</span>, <span class=\"price-tag-fraction\">19.500</span>, <span class=\"price-tag-fraction\">541</span>, <span class=\"price-tag-fraction\">89.999</span>, <span class=\"price-tag-fraction\">2.500</span>, <span class=\"price-tag-fraction\">124.999</span>, <span class=\"price-tag-fraction\">3.472</span>]\n",
            "['Alcancía Animada No Face Viaje Chihiro Kaonashi Anime', 'Accesorio * Agenda Death Note * Anime **', 'Alcancia De Gato O Panda Roba Monedas Animada Electronica', 'Alcancia De Gato O Panda Roba Monedas Animada Electronica', 'Alcancia De Gato O Panda Roba Monedas Animada Electronica', 'Death Note Libreta + Pluma + Cd Ost Live Action Serie Anime', 'Agenda Death Note Con Cd Y Pluma Anime + Obsequio ', 'Esfera Del Dragon Llavero Anime Cosplay Goku', 'Cardcaptor Sakura Kinomoto Sakura Figura Precio Unidad Caja', 'Alcancía Animada No Face Viaje Chihiro Kaonashi Anime', 'Figura Ryuk  + Agenda Death Note Anime Colección', 'Alcancía Animada No Face Viaje Chihiro Kaonashi Anime', 'Reloj Set Anime De Full Metal Alchemist, Fullmetal Colección', 'Naruto Bandana Hoja  Tachada Coleccion ', 'Captain Tsubasa Super Campeones Oliver Atom Figura Panini', 'Set Accesorios Naruto, Anime, Colección', 'Captain Tsubasa Super Campeones Benji Price Figura Panini', 'Anillo Itachi - Anime Naruto Anillo Akatsuki  ', 'Gorra O Cachuca De Asuka Del Anime Evangelion Orejas De Gato', 'Gorra O Cachuca De Ash Ketchum Del Anime Pokemon Cosplay', 'Naruto Coleccion Set X 6 Tam 6 Cm Anime Obs Afiche  Ajd ', 'Captain Tsubasa Super Campeones Oliver & Tom Figura Panini', 'Naruto Anillo Itachi De Colección Anime Cosplay', 'Funko Pop Vinyl - Anime - Hunter X Hunter', 'Kunai Ninja Del Anime Naruto Cosplay Plastico Manga Juguete', 'Shenlong Dragón Ball Z Colección Figura Anime 12 Cm', 'Figura L  Death Note Nendoroid Anime Coleccion', 'Figura Luffy One Piece , Anime , Coleccion', 'Colección X 6 Figuras Sailor Moon Anime, Coleccion Sofitoys', 'Figuras Anime Death Note Set X 6 Kira  Riuk + Regalo Y Envio', 'Figuras Dragón Ball Boda Goku Y Milk -- Anime - Coleccion ', 'Gorra O Cachuca De Kujo Jotaro Del Anime Jojo S Bizarre', 'Figura Goku Alas Dragon Ball - Anime 15 Cm Aprox', 'Figura Goku Dragon Ball Super The Movie  The 20 Th Film ', 'Figura Goku Niño En Nube Voladora Envió Gratis ', 'Captain Tsubasa Super Campeones Atajada Benji Figura Panini', 'Figura Goku Bebe  -- Dragon Ball -  Coleccion', 'Figura Naruto Shippuden Tercer Hokage Sarutobi Hiruzen', 'Figura Naruto Kurama Shukaku Colección X 2 Figuras + Envió ', 'Figura Dragon Ball Z Resolution Of Soldiers Goku Vegeta ', 'Sakura Card Captor Clow Anime Baraja 55 Cartas Und Ajd 042', 'Izuku Midoriya My Hero Academia Mcfarlane Toys Figura', 'Funko Pop: Anime - Naruto Shippuden - Kakashi (182)', 'Bandana Naruto Aldea De La Hoja Cosplay Anime', 'Alcancía De Gato O Panda Roba Monedas Animada Electrónica', 'Dakimakura Eromanga Sensei Sagiri Almohada Anime Sexy', 'Naruto Bandana Anime Cosplay Konoha Manga', 'Monedero Rana Naruto Anime Sapo Naruto', 'Figura Shenlong Dragon Ball , Anime Coleccion', 'Ikaros Sora No Otoshimono Figura Sexy Anime, Envio Gratis']\n",
            "['Alcancía Animada No Face Viaje Chihiro Kaonashi Anime', 'Accesorio * Agenda Death Note * Anime **', 'Alcancia De Gato O Panda Roba Monedas Animada Electronica', 'Alcancia De Gato O Panda Roba Monedas Animada Electronica', 'Alcancia De Gato O Panda Roba Monedas Animada Electronica', 'Death Note Libreta + Pluma + Cd Ost Live Action Serie Anime', 'Agenda Death Note Con Cd Y Pluma Anime + Obsequio ', 'Esfera Del Dragon Llavero Anime Cosplay Goku', 'Cardcaptor Sakura Kinomoto Sakura Figura Precio Unidad Caja', 'Alcancía Animada No Face Viaje Chihiro Kaonashi Anime', 'Figura Ryuk  + Agenda Death Note Anime Colección', 'Alcancía Animada No Face Viaje Chihiro Kaonashi Anime', 'Reloj Set Anime De Full Metal Alchemist, Fullmetal Colección', 'Naruto Bandana Hoja  Tachada Coleccion ', 'Captain Tsubasa Super Campeones Oliver Atom Figura Panini', 'Set Accesorios Naruto, Anime, Colección', 'Captain Tsubasa Super Campeones Benji Price Figura Panini', 'Anillo Itachi - Anime Naruto Anillo Akatsuki  ', 'Gorra O Cachuca De Asuka Del Anime Evangelion Orejas De Gato', 'Gorra O Cachuca De Ash Ketchum Del Anime Pokemon Cosplay', 'Naruto Coleccion Set X 6 Tam 6 Cm Anime Obs Afiche  Ajd ', 'Captain Tsubasa Super Campeones Oliver & Tom Figura Panini', 'Naruto Anillo Itachi De Colección Anime Cosplay', 'Funko Pop Vinyl - Anime - Hunter X Hunter', 'Kunai Ninja Del Anime Naruto Cosplay Plastico Manga Juguete', 'Shenlong Dragón Ball Z Colección Figura Anime 12 Cm', 'Figura L  Death Note Nendoroid Anime Coleccion', 'Figura Luffy One Piece , Anime , Coleccion', 'Colección X 6 Figuras Sailor Moon Anime, Coleccion Sofitoys', 'Figuras Anime Death Note Set X 6 Kira  Riuk + Regalo Y Envio', 'Figuras Dragón Ball Boda Goku Y Milk -- Anime - Coleccion ', 'Gorra O Cachuca De Kujo Jotaro Del Anime Jojo S Bizarre', 'Figura Goku Alas Dragon Ball - Anime 15 Cm Aprox', 'Figura Goku Dragon Ball Super The Movie  The 20 Th Film ', 'Figura Goku Niño En Nube Voladora Envió Gratis ', 'Captain Tsubasa Super Campeones Atajada Benji Figura Panini', 'Figura Goku Bebe  -- Dragon Ball -  Coleccion', 'Figura Naruto Shippuden Tercer Hokage Sarutobi Hiruzen', 'Figura Naruto Kurama Shukaku Colección X 2 Figuras + Envió ', 'Figura Dragon Ball Z Resolution Of Soldiers Goku Vegeta ', 'Sakura Card Captor Clow Anime Baraja 55 Cartas Und Ajd 042', 'Izuku Midoriya My Hero Academia Mcfarlane Toys Figura', 'Funko Pop: Anime - Naruto Shippuden - Kakashi (182)', 'Bandana Naruto Aldea De La Hoja Cosplay Anime', 'Alcancía De Gato O Panda Roba Monedas Animada Electrónica', 'Dakimakura Eromanga Sensei Sagiri Almohada Anime Sexy', 'Naruto Bandana Anime Cosplay Konoha Manga', 'Monedero Rana Naruto Anime Sapo Naruto', 'Figura Shenlong Dragon Ball , Anime Coleccion', 'Ikaros Sora No Otoshimono Figura Sexy Anime, Envio Gratis']\n"
          ],
          "name": "stdout"
        }
      ]
    },
    {
      "cell_type": "code",
      "metadata": {
        "id": "lGF6NQ5hwwUi",
        "colab_type": "code",
        "colab": {
          "base_uri": "https://localhost:8080/",
          "height": 34
        },
        "outputId": "83ad4ebe-0c81-4b7f-8d75-f0d000b6182d"
      },
      "source": [
        "import pandas as pd\n",
        "dictFiguras= {}\n",
        "dictFiguras ['Titulo']= namaeFiguras[:37]\n",
        "print(len(namaeFiguras), len(listaPrecios))\n",
        "dictFiguras ['Precio']= listaPrecios[:37]\n",
        "figurasDataFrame= pd.DataFrame(dictFiguras)\n",
        "figurasDataFrame.to_csv('Figuras anime.csv', index= False)"
      ],
      "execution_count": 3,
      "outputs": [
        {
          "output_type": "stream",
          "text": [
            "50 50\n"
          ],
          "name": "stdout"
        }
      ]
    },
    {
      "cell_type": "code",
      "metadata": {
        "id": "cIThAr7izsnb",
        "colab_type": "code",
        "colab": {
          "base_uri": "https://localhost:8080/",
          "height": 54
        },
        "outputId": "0210f0ae-27a8-4db2-dbe5-57faace70abb"
      },
      "source": [
        "nuevaFigura= lambda elemento: 'figura: ' + elemento\n",
        "titulosPorFigura= list (map(nuevaFigura, namaeFiguras)) \n",
        "print(titulosPorFigura)\n",
        "\n",
        "dictFiguras ['Titulo']= namaeFiguras[:50]\n",
        "dictFiguras ['Precio']= listaPrecios[:50]  \n",
        "\n",
        "figurasDataFrame= pd.DataFrame(dictFiguras) \n",
        "figurasDataFrame.to_csv('Figuras anime agregadas.csv', index= False)\n"
      ],
      "execution_count": 4,
      "outputs": [
        {
          "output_type": "stream",
          "text": [
            "['figura: Alcancía Animada No Face Viaje Chihiro Kaonashi Anime', 'figura: Accesorio * Agenda Death Note * Anime **', 'figura: Alcancia De Gato O Panda Roba Monedas Animada Electronica', 'figura: Alcancia De Gato O Panda Roba Monedas Animada Electronica', 'figura: Alcancia De Gato O Panda Roba Monedas Animada Electronica', 'figura: Death Note Libreta + Pluma + Cd Ost Live Action Serie Anime', 'figura: Agenda Death Note Con Cd Y Pluma Anime + Obsequio ', 'figura: Esfera Del Dragon Llavero Anime Cosplay Goku', 'figura: Cardcaptor Sakura Kinomoto Sakura Figura Precio Unidad Caja', 'figura: Alcancía Animada No Face Viaje Chihiro Kaonashi Anime', 'figura: Figura Ryuk  + Agenda Death Note Anime Colección', 'figura: Alcancía Animada No Face Viaje Chihiro Kaonashi Anime', 'figura: Reloj Set Anime De Full Metal Alchemist, Fullmetal Colección', 'figura: Naruto Bandana Hoja  Tachada Coleccion ', 'figura: Captain Tsubasa Super Campeones Oliver Atom Figura Panini', 'figura: Set Accesorios Naruto, Anime, Colección', 'figura: Captain Tsubasa Super Campeones Benji Price Figura Panini', 'figura: Anillo Itachi - Anime Naruto Anillo Akatsuki  ', 'figura: Gorra O Cachuca De Asuka Del Anime Evangelion Orejas De Gato', 'figura: Gorra O Cachuca De Ash Ketchum Del Anime Pokemon Cosplay', 'figura: Naruto Coleccion Set X 6 Tam 6 Cm Anime Obs Afiche  Ajd ', 'figura: Captain Tsubasa Super Campeones Oliver & Tom Figura Panini', 'figura: Naruto Anillo Itachi De Colección Anime Cosplay', 'figura: Funko Pop Vinyl - Anime - Hunter X Hunter', 'figura: Kunai Ninja Del Anime Naruto Cosplay Plastico Manga Juguete', 'figura: Shenlong Dragón Ball Z Colección Figura Anime 12 Cm', 'figura: Figura L  Death Note Nendoroid Anime Coleccion', 'figura: Figura Luffy One Piece , Anime , Coleccion', 'figura: Colección X 6 Figuras Sailor Moon Anime, Coleccion Sofitoys', 'figura: Figuras Anime Death Note Set X 6 Kira  Riuk + Regalo Y Envio', 'figura: Figuras Dragón Ball Boda Goku Y Milk -- Anime - Coleccion ', 'figura: Gorra O Cachuca De Kujo Jotaro Del Anime Jojo S Bizarre', 'figura: Figura Goku Alas Dragon Ball - Anime 15 Cm Aprox', 'figura: Figura Goku Dragon Ball Super The Movie  The 20 Th Film ', 'figura: Figura Goku Niño En Nube Voladora Envió Gratis ', 'figura: Captain Tsubasa Super Campeones Atajada Benji Figura Panini', 'figura: Figura Goku Bebe  -- Dragon Ball -  Coleccion', 'figura: Figura Naruto Shippuden Tercer Hokage Sarutobi Hiruzen', 'figura: Figura Naruto Kurama Shukaku Colección X 2 Figuras + Envió ', 'figura: Figura Dragon Ball Z Resolution Of Soldiers Goku Vegeta ', 'figura: Sakura Card Captor Clow Anime Baraja 55 Cartas Und Ajd 042', 'figura: Izuku Midoriya My Hero Academia Mcfarlane Toys Figura', 'figura: Funko Pop: Anime - Naruto Shippuden - Kakashi (182)', 'figura: Bandana Naruto Aldea De La Hoja Cosplay Anime', 'figura: Alcancía De Gato O Panda Roba Monedas Animada Electrónica', 'figura: Dakimakura Eromanga Sensei Sagiri Almohada Anime Sexy', 'figura: Naruto Bandana Anime Cosplay Konoha Manga', 'figura: Monedero Rana Naruto Anime Sapo Naruto', 'figura: Figura Shenlong Dragon Ball , Anime Coleccion', 'figura: Ikaros Sora No Otoshimono Figura Sexy Anime, Envio Gratis']\n"
          ],
          "name": "stdout"
        }
      ]
    },
    {
      "cell_type": "code",
      "metadata": {
        "id": "AI4wxFHND3l5",
        "colab_type": "code",
        "colab": {
          "base_uri": "https://localhost:8080/",
          "height": 71
        },
        "outputId": "678139e5-a22b-47ce-f4d9-33dddcd038eb"
      },
      "source": [
        "gorra= lambda elemento: 'Gorra' in elemento \n",
        "figura= lambda elemento: 'Figura' in elemento \n",
        "\n",
        "listaDeGorras= list (filter(gorra, namaeFiguras))\n",
        "listaDeFiguras= list (filter(figura, namaeFiguras)) \n",
        "print(listaDeGorras) \n",
        "print(listaDeFiguras) \n",
        "\n",
        "gorraSerie= pd.Series(listaDeGorras)\n",
        "gorraSerie.to_csv('Gorras.csv', index_label='Gorra')\n",
        "figuraSerie= pd.Series(listaDeFiguras) \n",
        "figuraSerie.to_csv('Figuras.csv', index_label='Figura')"
      ],
      "execution_count": 17,
      "outputs": [
        {
          "output_type": "stream",
          "text": [
            "['Gorra O Cachuca De Asuka Del Anime Evangelion Orejas De Gato', 'Gorra O Cachuca De Ash Ketchum Del Anime Pokemon Cosplay', 'Gorra O Cachuca De Kujo Jotaro Del Anime Jojo S Bizarre']\n",
            "['Cardcaptor Sakura Kinomoto Sakura Figura Precio Unidad Caja', 'Figura Ryuk  + Agenda Death Note Anime Colección', 'Captain Tsubasa Super Campeones Oliver Atom Figura Panini', 'Captain Tsubasa Super Campeones Benji Price Figura Panini', 'Captain Tsubasa Super Campeones Oliver & Tom Figura Panini', 'Shenlong Dragón Ball Z Colección Figura Anime 12 Cm', 'Figura L  Death Note Nendoroid Anime Coleccion', 'Figura Luffy One Piece , Anime , Coleccion', 'Colección X 6 Figuras Sailor Moon Anime, Coleccion Sofitoys', 'Figuras Anime Death Note Set X 6 Kira  Riuk + Regalo Y Envio', 'Figuras Dragón Ball Boda Goku Y Milk -- Anime - Coleccion ', 'Figura Goku Alas Dragon Ball - Anime 15 Cm Aprox', 'Figura Goku Dragon Ball Super The Movie  The 20 Th Film ', 'Figura Goku Niño En Nube Voladora Envió Gratis ', 'Captain Tsubasa Super Campeones Atajada Benji Figura Panini', 'Figura Goku Bebe  -- Dragon Ball -  Coleccion', 'Figura Naruto Shippuden Tercer Hokage Sarutobi Hiruzen', 'Figura Naruto Kurama Shukaku Colección X 2 Figuras + Envió ', 'Figura Dragon Ball Z Resolution Of Soldiers Goku Vegeta ', 'Izuku Midoriya My Hero Academia Mcfarlane Toys Figura', 'Figura Shenlong Dragon Ball , Anime Coleccion', 'Ikaros Sora No Otoshimono Figura Sexy Anime, Envio Gratis', 'Figura Netzuko  Demon Slayer  Figuras  Kimetsu No Yaiba', 'Captain Tsubasa Super Campeones Steve Hyuga Figura Panini']\n"
          ],
          "name": "stdout"
        }
      ]
    },
    {
      "cell_type": "code",
      "metadata": {
        "id": "UxLAW9igHqB9",
        "colab_type": "code",
        "colab": {
          "base_uri": "https://localhost:8080/",
          "height": 54
        },
        "outputId": "913b33a2-b12d-4b7a-ce54-3d81a906857f"
      },
      "source": [
        "titulos=namaeFiguras  \n",
        "titulosPorMarca= lambda elemento: 'Figura' in elemento \n",
        "listaTitulos= list (filter(titulosPorMarca, titulos))\n",
        "print(listaTitulos) \n",
        "titulosPorMarcaSerie= pd.Series(listaTitulos)\n",
        "titulosPorMarcaSerie.to_csv('titulos por marca.csv', index_label='Figura')"
      ],
      "execution_count": 5,
      "outputs": [
        {
          "output_type": "stream",
          "text": [
            "['Cardcaptor Sakura Kinomoto Sakura Figura Precio Unidad Caja', 'Figura Ryuk  + Agenda Death Note Anime Colección', 'Captain Tsubasa Super Campeones Oliver Atom Figura Panini', 'Captain Tsubasa Super Campeones Benji Price Figura Panini', 'Captain Tsubasa Super Campeones Oliver & Tom Figura Panini', 'Shenlong Dragón Ball Z Colección Figura Anime 12 Cm', 'Figura L  Death Note Nendoroid Anime Coleccion', 'Figura Luffy One Piece , Anime , Coleccion', 'Colección X 6 Figuras Sailor Moon Anime, Coleccion Sofitoys', 'Figuras Anime Death Note Set X 6 Kira  Riuk + Regalo Y Envio', 'Figuras Dragón Ball Boda Goku Y Milk -- Anime - Coleccion ', 'Figura Goku Alas Dragon Ball - Anime 15 Cm Aprox', 'Figura Goku Dragon Ball Super The Movie  The 20 Th Film ', 'Figura Goku Niño En Nube Voladora Envió Gratis ', 'Captain Tsubasa Super Campeones Atajada Benji Figura Panini', 'Figura Goku Bebe  -- Dragon Ball -  Coleccion', 'Figura Naruto Shippuden Tercer Hokage Sarutobi Hiruzen', 'Figura Naruto Kurama Shukaku Colección X 2 Figuras + Envió ', 'Figura Dragon Ball Z Resolution Of Soldiers Goku Vegeta ', 'Izuku Midoriya My Hero Academia Mcfarlane Toys Figura', 'Figura Shenlong Dragon Ball , Anime Coleccion', 'Ikaros Sora No Otoshimono Figura Sexy Anime, Envio Gratis']\n"
          ],
          "name": "stdout"
        }
      ]
    },
    {
      "cell_type": "code",
      "metadata": {
        "id": "2co-S342MYsF",
        "colab_type": "code",
        "colab": {
          "base_uri": "https://localhost:8080/",
          "height": 54
        },
        "outputId": "d4a572fc-2980-4ac7-d623-7d703ada7b21"
      },
      "source": [
        "from functools import reduce \n",
        "\n",
        "sumarTitulos= lambda acumulador= 0, elemento= 0: acumulador + elemento \n",
        "resultado= reduce (sumarTitulos, namaeFiguras) \n",
        "print(resultado)"
      ],
      "execution_count": 6,
      "outputs": [
        {
          "output_type": "stream",
          "text": [
            "Alcancía Animada No Face Viaje Chihiro Kaonashi AnimeAccesorio * Agenda Death Note * Anime **Alcancia De Gato O Panda Roba Monedas Animada ElectronicaAlcancia De Gato O Panda Roba Monedas Animada ElectronicaAlcancia De Gato O Panda Roba Monedas Animada ElectronicaDeath Note Libreta + Pluma + Cd Ost Live Action Serie AnimeAgenda Death Note Con Cd Y Pluma Anime + Obsequio Esfera Del Dragon Llavero Anime Cosplay GokuCardcaptor Sakura Kinomoto Sakura Figura Precio Unidad CajaAlcancía Animada No Face Viaje Chihiro Kaonashi AnimeFigura Ryuk  + Agenda Death Note Anime ColecciónAlcancía Animada No Face Viaje Chihiro Kaonashi AnimeReloj Set Anime De Full Metal Alchemist, Fullmetal ColecciónNaruto Bandana Hoja  Tachada Coleccion Captain Tsubasa Super Campeones Oliver Atom Figura PaniniSet Accesorios Naruto, Anime, ColecciónCaptain Tsubasa Super Campeones Benji Price Figura PaniniAnillo Itachi - Anime Naruto Anillo Akatsuki  Gorra O Cachuca De Asuka Del Anime Evangelion Orejas De GatoGorra O Cachuca De Ash Ketchum Del Anime Pokemon CosplayNaruto Coleccion Set X 6 Tam 6 Cm Anime Obs Afiche  Ajd Captain Tsubasa Super Campeones Oliver & Tom Figura PaniniNaruto Anillo Itachi De Colección Anime CosplayFunko Pop Vinyl - Anime - Hunter X HunterKunai Ninja Del Anime Naruto Cosplay Plastico Manga JugueteShenlong Dragón Ball Z Colección Figura Anime 12 CmFigura L  Death Note Nendoroid Anime ColeccionFigura Luffy One Piece , Anime , ColeccionColección X 6 Figuras Sailor Moon Anime, Coleccion SofitoysFiguras Anime Death Note Set X 6 Kira  Riuk + Regalo Y EnvioFiguras Dragón Ball Boda Goku Y Milk -- Anime - Coleccion Gorra O Cachuca De Kujo Jotaro Del Anime Jojo S BizarreFigura Goku Alas Dragon Ball - Anime 15 Cm AproxFigura Goku Dragon Ball Super The Movie  The 20 Th Film Figura Goku Niño En Nube Voladora Envió Gratis Captain Tsubasa Super Campeones Atajada Benji Figura PaniniFigura Goku Bebe  -- Dragon Ball -  ColeccionFigura Naruto Shippuden Tercer Hokage Sarutobi HiruzenFigura Naruto Kurama Shukaku Colección X 2 Figuras + Envió Figura Dragon Ball Z Resolution Of Soldiers Goku Vegeta Sakura Card Captor Clow Anime Baraja 55 Cartas Und Ajd 042Izuku Midoriya My Hero Academia Mcfarlane Toys FiguraFunko Pop: Anime - Naruto Shippuden - Kakashi (182)Bandana Naruto Aldea De La Hoja Cosplay AnimeAlcancía De Gato O Panda Roba Monedas Animada ElectrónicaDakimakura Eromanga Sensei Sagiri Almohada Anime SexyNaruto Bandana Anime Cosplay Konoha MangaMonedero Rana Naruto Anime Sapo NarutoFigura Shenlong Dragon Ball , Anime ColeccionIkaros Sora No Otoshimono Figura Sexy Anime, Envio Gratis\n"
          ],
          "name": "stdout"
        }
      ]
    },
    {
      "cell_type": "code",
      "metadata": {
        "id": "bqNcvrHaNnBR",
        "colab_type": "code",
        "colab": {
          "base_uri": "https://localhost:8080/",
          "height": 34
        },
        "outputId": "f0ee9cd8-07f7-4cd3-992e-45bd9b339f94"
      },
      "source": [
        "\n",
        "funcionReducidos= lambda elemento: len(elemento) <= 25 \n",
        "titulosReducidos= list(filter(funcionReducidos,namaeFiguras )) \n",
        "print(titulosReducidos)"
      ],
      "execution_count": 24,
      "outputs": [
        {
          "output_type": "stream",
          "text": [
            "[]\n"
          ],
          "name": "stdout"
        }
      ]
    },
    {
      "cell_type": "code",
      "metadata": {
        "id": "SY5CdmD_QEM7",
        "colab_type": "code",
        "colab": {
          "base_uri": "https://localhost:8080/",
          "height": 71
        },
        "outputId": "da772c16-0ad8-4521-c062-93c0b7ef05e6"
      },
      "source": [
        "from functools import reduce \n",
        "\n",
        "funcionMap= lambda elemento: len(elemento)\n",
        "listaFuncionMap= list (map(funcionMap, namaeFiguras))\n",
        "print(listaFuncionMap)\n",
        "sumar= lambda elemento= 0, acumulador=0: acumulador + elemento\n",
        "\n",
        "promedioTitulos= reduce (sumar, listaFuncionMap) / len(namaeFiguras) \n",
        "print(promedioTitulos)"
      ],
      "execution_count": 11,
      "outputs": [
        {
          "output_type": "stream",
          "text": [
            "[53, 40, 57, 57, 57, 59, 50, 44, 59, 53, 48, 53, 60, 39, 57, 39, 57, 46, 60, 56, 56, 58, 47, 41, 59, 51, 46, 42, 59, 60, 58, 55, 48, 56, 47, 59, 45, 54, 59, 56, 58, 53, 51, 45, 57, 53, 41, 38, 45, 57]\n",
            "51.96\n"
          ],
          "name": "stdout"
        }
      ]
    },
    {
      "cell_type": "code",
      "metadata": {
        "id": "T5F-4rMU1bgS",
        "colab_type": "code",
        "colab": {
          "base_uri": "https://localhost:8080/",
          "height": 1000
        },
        "outputId": "523b0c0c-110b-4d6d-9b12-6355667b2450"
      },
      "source": [
        "figurasDataFrame"
      ],
      "execution_count": 12,
      "outputs": [
        {
          "output_type": "execute_result",
          "data": {
            "text/html": [
              "<div>\n",
              "<style scoped>\n",
              "    .dataframe tbody tr th:only-of-type {\n",
              "        vertical-align: middle;\n",
              "    }\n",
              "\n",
              "    .dataframe tbody tr th {\n",
              "        vertical-align: top;\n",
              "    }\n",
              "\n",
              "    .dataframe thead th {\n",
              "        text-align: right;\n",
              "    }\n",
              "</style>\n",
              "<table border=\"1\" class=\"dataframe\">\n",
              "  <thead>\n",
              "    <tr style=\"text-align: right;\">\n",
              "      <th></th>\n",
              "      <th>Titulo</th>\n",
              "      <th>Precio</th>\n",
              "    </tr>\n",
              "  </thead>\n",
              "  <tbody>\n",
              "    <tr>\n",
              "      <th>0</th>\n",
              "      <td>Alcancía Animada No Face Viaje Chihiro Kaonash...</td>\n",
              "      <td>Alcancía Animada No Face Viaje Chihiro Kaonash...</td>\n",
              "    </tr>\n",
              "    <tr>\n",
              "      <th>1</th>\n",
              "      <td>Accesorio * Agenda Death Note * Anime **</td>\n",
              "      <td>Accesorio * Agenda Death Note * Anime **</td>\n",
              "    </tr>\n",
              "    <tr>\n",
              "      <th>2</th>\n",
              "      <td>Alcancia De Gato O Panda Roba Monedas Animada ...</td>\n",
              "      <td>Alcancia De Gato O Panda Roba Monedas Animada ...</td>\n",
              "    </tr>\n",
              "    <tr>\n",
              "      <th>3</th>\n",
              "      <td>Alcancia De Gato O Panda Roba Monedas Animada ...</td>\n",
              "      <td>Alcancia De Gato O Panda Roba Monedas Animada ...</td>\n",
              "    </tr>\n",
              "    <tr>\n",
              "      <th>4</th>\n",
              "      <td>Alcancia De Gato O Panda Roba Monedas Animada ...</td>\n",
              "      <td>Alcancia De Gato O Panda Roba Monedas Animada ...</td>\n",
              "    </tr>\n",
              "    <tr>\n",
              "      <th>5</th>\n",
              "      <td>Death Note Libreta + Pluma + Cd Ost Live Actio...</td>\n",
              "      <td>Death Note Libreta + Pluma + Cd Ost Live Actio...</td>\n",
              "    </tr>\n",
              "    <tr>\n",
              "      <th>6</th>\n",
              "      <td>Agenda Death Note Con Cd Y Pluma Anime + Obseq...</td>\n",
              "      <td>Agenda Death Note Con Cd Y Pluma Anime + Obseq...</td>\n",
              "    </tr>\n",
              "    <tr>\n",
              "      <th>7</th>\n",
              "      <td>Esfera Del Dragon Llavero Anime Cosplay Goku</td>\n",
              "      <td>Esfera Del Dragon Llavero Anime Cosplay Goku</td>\n",
              "    </tr>\n",
              "    <tr>\n",
              "      <th>8</th>\n",
              "      <td>Cardcaptor Sakura Kinomoto Sakura Figura Preci...</td>\n",
              "      <td>Cardcaptor Sakura Kinomoto Sakura Figura Preci...</td>\n",
              "    </tr>\n",
              "    <tr>\n",
              "      <th>9</th>\n",
              "      <td>Alcancía Animada No Face Viaje Chihiro Kaonash...</td>\n",
              "      <td>Alcancía Animada No Face Viaje Chihiro Kaonash...</td>\n",
              "    </tr>\n",
              "    <tr>\n",
              "      <th>10</th>\n",
              "      <td>Figura Ryuk  + Agenda Death Note Anime Colección</td>\n",
              "      <td>Figura Ryuk  + Agenda Death Note Anime Colección</td>\n",
              "    </tr>\n",
              "    <tr>\n",
              "      <th>11</th>\n",
              "      <td>Alcancía Animada No Face Viaje Chihiro Kaonash...</td>\n",
              "      <td>Alcancía Animada No Face Viaje Chihiro Kaonash...</td>\n",
              "    </tr>\n",
              "    <tr>\n",
              "      <th>12</th>\n",
              "      <td>Reloj Set Anime De Full Metal Alchemist, Fullm...</td>\n",
              "      <td>Reloj Set Anime De Full Metal Alchemist, Fullm...</td>\n",
              "    </tr>\n",
              "    <tr>\n",
              "      <th>13</th>\n",
              "      <td>Naruto Bandana Hoja  Tachada Coleccion</td>\n",
              "      <td>Naruto Bandana Hoja  Tachada Coleccion</td>\n",
              "    </tr>\n",
              "    <tr>\n",
              "      <th>14</th>\n",
              "      <td>Captain Tsubasa Super Campeones Oliver Atom Fi...</td>\n",
              "      <td>Captain Tsubasa Super Campeones Oliver Atom Fi...</td>\n",
              "    </tr>\n",
              "    <tr>\n",
              "      <th>15</th>\n",
              "      <td>Set Accesorios Naruto, Anime, Colección</td>\n",
              "      <td>Set Accesorios Naruto, Anime, Colección</td>\n",
              "    </tr>\n",
              "    <tr>\n",
              "      <th>16</th>\n",
              "      <td>Captain Tsubasa Super Campeones Benji Price Fi...</td>\n",
              "      <td>Captain Tsubasa Super Campeones Benji Price Fi...</td>\n",
              "    </tr>\n",
              "    <tr>\n",
              "      <th>17</th>\n",
              "      <td>Anillo Itachi - Anime Naruto Anillo Akatsuki</td>\n",
              "      <td>Anillo Itachi - Anime Naruto Anillo Akatsuki</td>\n",
              "    </tr>\n",
              "    <tr>\n",
              "      <th>18</th>\n",
              "      <td>Gorra O Cachuca De Asuka Del Anime Evangelion ...</td>\n",
              "      <td>Gorra O Cachuca De Asuka Del Anime Evangelion ...</td>\n",
              "    </tr>\n",
              "    <tr>\n",
              "      <th>19</th>\n",
              "      <td>Gorra O Cachuca De Ash Ketchum Del Anime Pokem...</td>\n",
              "      <td>Gorra O Cachuca De Ash Ketchum Del Anime Pokem...</td>\n",
              "    </tr>\n",
              "    <tr>\n",
              "      <th>20</th>\n",
              "      <td>Naruto Coleccion Set X 6 Tam 6 Cm Anime Obs Af...</td>\n",
              "      <td>Naruto Coleccion Set X 6 Tam 6 Cm Anime Obs Af...</td>\n",
              "    </tr>\n",
              "    <tr>\n",
              "      <th>21</th>\n",
              "      <td>Captain Tsubasa Super Campeones Oliver &amp; Tom F...</td>\n",
              "      <td>Captain Tsubasa Super Campeones Oliver &amp; Tom F...</td>\n",
              "    </tr>\n",
              "    <tr>\n",
              "      <th>22</th>\n",
              "      <td>Naruto Anillo Itachi De Colección Anime Cosplay</td>\n",
              "      <td>Naruto Anillo Itachi De Colección Anime Cosplay</td>\n",
              "    </tr>\n",
              "    <tr>\n",
              "      <th>23</th>\n",
              "      <td>Funko Pop Vinyl - Anime - Hunter X Hunter</td>\n",
              "      <td>Funko Pop Vinyl - Anime - Hunter X Hunter</td>\n",
              "    </tr>\n",
              "    <tr>\n",
              "      <th>24</th>\n",
              "      <td>Kunai Ninja Del Anime Naruto Cosplay Plastico ...</td>\n",
              "      <td>Kunai Ninja Del Anime Naruto Cosplay Plastico ...</td>\n",
              "    </tr>\n",
              "    <tr>\n",
              "      <th>25</th>\n",
              "      <td>Shenlong Dragón Ball Z Colección Figura Anime ...</td>\n",
              "      <td>Shenlong Dragón Ball Z Colección Figura Anime ...</td>\n",
              "    </tr>\n",
              "    <tr>\n",
              "      <th>26</th>\n",
              "      <td>Figura L  Death Note Nendoroid Anime Coleccion</td>\n",
              "      <td>Figura L  Death Note Nendoroid Anime Coleccion</td>\n",
              "    </tr>\n",
              "    <tr>\n",
              "      <th>27</th>\n",
              "      <td>Figura Luffy One Piece , Anime , Coleccion</td>\n",
              "      <td>Figura Luffy One Piece , Anime , Coleccion</td>\n",
              "    </tr>\n",
              "    <tr>\n",
              "      <th>28</th>\n",
              "      <td>Colección X 6 Figuras Sailor Moon Anime, Colec...</td>\n",
              "      <td>Colección X 6 Figuras Sailor Moon Anime, Colec...</td>\n",
              "    </tr>\n",
              "    <tr>\n",
              "      <th>29</th>\n",
              "      <td>Figuras Anime Death Note Set X 6 Kira  Riuk + ...</td>\n",
              "      <td>Figuras Anime Death Note Set X 6 Kira  Riuk + ...</td>\n",
              "    </tr>\n",
              "    <tr>\n",
              "      <th>30</th>\n",
              "      <td>Figuras Dragón Ball Boda Goku Y Milk -- Anime ...</td>\n",
              "      <td>Figuras Dragón Ball Boda Goku Y Milk -- Anime ...</td>\n",
              "    </tr>\n",
              "    <tr>\n",
              "      <th>31</th>\n",
              "      <td>Gorra O Cachuca De Kujo Jotaro Del Anime Jojo ...</td>\n",
              "      <td>Gorra O Cachuca De Kujo Jotaro Del Anime Jojo ...</td>\n",
              "    </tr>\n",
              "    <tr>\n",
              "      <th>32</th>\n",
              "      <td>Figura Goku Alas Dragon Ball - Anime 15 Cm Aprox</td>\n",
              "      <td>Figura Goku Alas Dragon Ball - Anime 15 Cm Aprox</td>\n",
              "    </tr>\n",
              "    <tr>\n",
              "      <th>33</th>\n",
              "      <td>Figura Goku Dragon Ball Super The Movie  The 2...</td>\n",
              "      <td>Figura Goku Dragon Ball Super The Movie  The 2...</td>\n",
              "    </tr>\n",
              "    <tr>\n",
              "      <th>34</th>\n",
              "      <td>Figura Goku Niño En Nube Voladora Envió Gratis</td>\n",
              "      <td>Figura Goku Niño En Nube Voladora Envió Gratis</td>\n",
              "    </tr>\n",
              "    <tr>\n",
              "      <th>35</th>\n",
              "      <td>Captain Tsubasa Super Campeones Atajada Benji ...</td>\n",
              "      <td>Captain Tsubasa Super Campeones Atajada Benji ...</td>\n",
              "    </tr>\n",
              "    <tr>\n",
              "      <th>36</th>\n",
              "      <td>Figura Goku Bebe  -- Dragon Ball -  Coleccion</td>\n",
              "      <td>Figura Goku Bebe  -- Dragon Ball -  Coleccion</td>\n",
              "    </tr>\n",
              "    <tr>\n",
              "      <th>37</th>\n",
              "      <td>Figura Naruto Shippuden Tercer Hokage Sarutobi...</td>\n",
              "      <td>Figura Naruto Shippuden Tercer Hokage Sarutobi...</td>\n",
              "    </tr>\n",
              "    <tr>\n",
              "      <th>38</th>\n",
              "      <td>Figura Naruto Kurama Shukaku Colección X 2 Fig...</td>\n",
              "      <td>Figura Naruto Kurama Shukaku Colección X 2 Fig...</td>\n",
              "    </tr>\n",
              "    <tr>\n",
              "      <th>39</th>\n",
              "      <td>Figura Dragon Ball Z Resolution Of Soldiers Go...</td>\n",
              "      <td>Figura Dragon Ball Z Resolution Of Soldiers Go...</td>\n",
              "    </tr>\n",
              "    <tr>\n",
              "      <th>40</th>\n",
              "      <td>Sakura Card Captor Clow Anime Baraja 55 Cartas...</td>\n",
              "      <td>Sakura Card Captor Clow Anime Baraja 55 Cartas...</td>\n",
              "    </tr>\n",
              "    <tr>\n",
              "      <th>41</th>\n",
              "      <td>Izuku Midoriya My Hero Academia Mcfarlane Toys...</td>\n",
              "      <td>Izuku Midoriya My Hero Academia Mcfarlane Toys...</td>\n",
              "    </tr>\n",
              "    <tr>\n",
              "      <th>42</th>\n",
              "      <td>Funko Pop: Anime - Naruto Shippuden - Kakashi ...</td>\n",
              "      <td>Funko Pop: Anime - Naruto Shippuden - Kakashi ...</td>\n",
              "    </tr>\n",
              "    <tr>\n",
              "      <th>43</th>\n",
              "      <td>Bandana Naruto Aldea De La Hoja Cosplay Anime</td>\n",
              "      <td>Bandana Naruto Aldea De La Hoja Cosplay Anime</td>\n",
              "    </tr>\n",
              "    <tr>\n",
              "      <th>44</th>\n",
              "      <td>Alcancía De Gato O Panda Roba Monedas Animada ...</td>\n",
              "      <td>Alcancía De Gato O Panda Roba Monedas Animada ...</td>\n",
              "    </tr>\n",
              "    <tr>\n",
              "      <th>45</th>\n",
              "      <td>Dakimakura Eromanga Sensei Sagiri Almohada Ani...</td>\n",
              "      <td>Dakimakura Eromanga Sensei Sagiri Almohada Ani...</td>\n",
              "    </tr>\n",
              "    <tr>\n",
              "      <th>46</th>\n",
              "      <td>Naruto Bandana Anime Cosplay Konoha Manga</td>\n",
              "      <td>Naruto Bandana Anime Cosplay Konoha Manga</td>\n",
              "    </tr>\n",
              "    <tr>\n",
              "      <th>47</th>\n",
              "      <td>Monedero Rana Naruto Anime Sapo Naruto</td>\n",
              "      <td>Monedero Rana Naruto Anime Sapo Naruto</td>\n",
              "    </tr>\n",
              "    <tr>\n",
              "      <th>48</th>\n",
              "      <td>Figura Shenlong Dragon Ball , Anime Coleccion</td>\n",
              "      <td>Figura Shenlong Dragon Ball , Anime Coleccion</td>\n",
              "    </tr>\n",
              "    <tr>\n",
              "      <th>49</th>\n",
              "      <td>Ikaros Sora No Otoshimono Figura Sexy Anime, E...</td>\n",
              "      <td>Ikaros Sora No Otoshimono Figura Sexy Anime, E...</td>\n",
              "    </tr>\n",
              "  </tbody>\n",
              "</table>\n",
              "</div>"
            ],
            "text/plain": [
              "                                               Titulo                                             Precio\n",
              "0   Alcancía Animada No Face Viaje Chihiro Kaonash...  Alcancía Animada No Face Viaje Chihiro Kaonash...\n",
              "1            Accesorio * Agenda Death Note * Anime **           Accesorio * Agenda Death Note * Anime **\n",
              "2   Alcancia De Gato O Panda Roba Monedas Animada ...  Alcancia De Gato O Panda Roba Monedas Animada ...\n",
              "3   Alcancia De Gato O Panda Roba Monedas Animada ...  Alcancia De Gato O Panda Roba Monedas Animada ...\n",
              "4   Alcancia De Gato O Panda Roba Monedas Animada ...  Alcancia De Gato O Panda Roba Monedas Animada ...\n",
              "5   Death Note Libreta + Pluma + Cd Ost Live Actio...  Death Note Libreta + Pluma + Cd Ost Live Actio...\n",
              "6   Agenda Death Note Con Cd Y Pluma Anime + Obseq...  Agenda Death Note Con Cd Y Pluma Anime + Obseq...\n",
              "7        Esfera Del Dragon Llavero Anime Cosplay Goku       Esfera Del Dragon Llavero Anime Cosplay Goku\n",
              "8   Cardcaptor Sakura Kinomoto Sakura Figura Preci...  Cardcaptor Sakura Kinomoto Sakura Figura Preci...\n",
              "9   Alcancía Animada No Face Viaje Chihiro Kaonash...  Alcancía Animada No Face Viaje Chihiro Kaonash...\n",
              "10   Figura Ryuk  + Agenda Death Note Anime Colección   Figura Ryuk  + Agenda Death Note Anime Colección\n",
              "11  Alcancía Animada No Face Viaje Chihiro Kaonash...  Alcancía Animada No Face Viaje Chihiro Kaonash...\n",
              "12  Reloj Set Anime De Full Metal Alchemist, Fullm...  Reloj Set Anime De Full Metal Alchemist, Fullm...\n",
              "13            Naruto Bandana Hoja  Tachada Coleccion             Naruto Bandana Hoja  Tachada Coleccion \n",
              "14  Captain Tsubasa Super Campeones Oliver Atom Fi...  Captain Tsubasa Super Campeones Oliver Atom Fi...\n",
              "15            Set Accesorios Naruto, Anime, Colección            Set Accesorios Naruto, Anime, Colección\n",
              "16  Captain Tsubasa Super Campeones Benji Price Fi...  Captain Tsubasa Super Campeones Benji Price Fi...\n",
              "17     Anillo Itachi - Anime Naruto Anillo Akatsuki       Anillo Itachi - Anime Naruto Anillo Akatsuki  \n",
              "18  Gorra O Cachuca De Asuka Del Anime Evangelion ...  Gorra O Cachuca De Asuka Del Anime Evangelion ...\n",
              "19  Gorra O Cachuca De Ash Ketchum Del Anime Pokem...  Gorra O Cachuca De Ash Ketchum Del Anime Pokem...\n",
              "20  Naruto Coleccion Set X 6 Tam 6 Cm Anime Obs Af...  Naruto Coleccion Set X 6 Tam 6 Cm Anime Obs Af...\n",
              "21  Captain Tsubasa Super Campeones Oliver & Tom F...  Captain Tsubasa Super Campeones Oliver & Tom F...\n",
              "22    Naruto Anillo Itachi De Colección Anime Cosplay    Naruto Anillo Itachi De Colección Anime Cosplay\n",
              "23          Funko Pop Vinyl - Anime - Hunter X Hunter          Funko Pop Vinyl - Anime - Hunter X Hunter\n",
              "24  Kunai Ninja Del Anime Naruto Cosplay Plastico ...  Kunai Ninja Del Anime Naruto Cosplay Plastico ...\n",
              "25  Shenlong Dragón Ball Z Colección Figura Anime ...  Shenlong Dragón Ball Z Colección Figura Anime ...\n",
              "26     Figura L  Death Note Nendoroid Anime Coleccion     Figura L  Death Note Nendoroid Anime Coleccion\n",
              "27         Figura Luffy One Piece , Anime , Coleccion         Figura Luffy One Piece , Anime , Coleccion\n",
              "28  Colección X 6 Figuras Sailor Moon Anime, Colec...  Colección X 6 Figuras Sailor Moon Anime, Colec...\n",
              "29  Figuras Anime Death Note Set X 6 Kira  Riuk + ...  Figuras Anime Death Note Set X 6 Kira  Riuk + ...\n",
              "30  Figuras Dragón Ball Boda Goku Y Milk -- Anime ...  Figuras Dragón Ball Boda Goku Y Milk -- Anime ...\n",
              "31  Gorra O Cachuca De Kujo Jotaro Del Anime Jojo ...  Gorra O Cachuca De Kujo Jotaro Del Anime Jojo ...\n",
              "32   Figura Goku Alas Dragon Ball - Anime 15 Cm Aprox   Figura Goku Alas Dragon Ball - Anime 15 Cm Aprox\n",
              "33  Figura Goku Dragon Ball Super The Movie  The 2...  Figura Goku Dragon Ball Super The Movie  The 2...\n",
              "34    Figura Goku Niño En Nube Voladora Envió Gratis     Figura Goku Niño En Nube Voladora Envió Gratis \n",
              "35  Captain Tsubasa Super Campeones Atajada Benji ...  Captain Tsubasa Super Campeones Atajada Benji ...\n",
              "36      Figura Goku Bebe  -- Dragon Ball -  Coleccion      Figura Goku Bebe  -- Dragon Ball -  Coleccion\n",
              "37  Figura Naruto Shippuden Tercer Hokage Sarutobi...  Figura Naruto Shippuden Tercer Hokage Sarutobi...\n",
              "38  Figura Naruto Kurama Shukaku Colección X 2 Fig...  Figura Naruto Kurama Shukaku Colección X 2 Fig...\n",
              "39  Figura Dragon Ball Z Resolution Of Soldiers Go...  Figura Dragon Ball Z Resolution Of Soldiers Go...\n",
              "40  Sakura Card Captor Clow Anime Baraja 55 Cartas...  Sakura Card Captor Clow Anime Baraja 55 Cartas...\n",
              "41  Izuku Midoriya My Hero Academia Mcfarlane Toys...  Izuku Midoriya My Hero Academia Mcfarlane Toys...\n",
              "42  Funko Pop: Anime - Naruto Shippuden - Kakashi ...  Funko Pop: Anime - Naruto Shippuden - Kakashi ...\n",
              "43      Bandana Naruto Aldea De La Hoja Cosplay Anime      Bandana Naruto Aldea De La Hoja Cosplay Anime\n",
              "44  Alcancía De Gato O Panda Roba Monedas Animada ...  Alcancía De Gato O Panda Roba Monedas Animada ...\n",
              "45  Dakimakura Eromanga Sensei Sagiri Almohada Ani...  Dakimakura Eromanga Sensei Sagiri Almohada Ani...\n",
              "46          Naruto Bandana Anime Cosplay Konoha Manga          Naruto Bandana Anime Cosplay Konoha Manga\n",
              "47             Monedero Rana Naruto Anime Sapo Naruto             Monedero Rana Naruto Anime Sapo Naruto\n",
              "48      Figura Shenlong Dragon Ball , Anime Coleccion      Figura Shenlong Dragon Ball , Anime Coleccion\n",
              "49  Ikaros Sora No Otoshimono Figura Sexy Anime, E...  Ikaros Sora No Otoshimono Figura Sexy Anime, E..."
            ]
          },
          "metadata": {
            "tags": []
          },
          "execution_count": 12
        }
      ]
    }
  ]
}