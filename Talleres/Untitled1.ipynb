{
  "nbformat": 4,
  "nbformat_minor": 0,
  "metadata": {
    "colab": {
      "name": "Untitled1.ipynb",
      "provenance": []
    },
    "kernelspec": {
      "name": "python3",
      "display_name": "Python 3"
    }
  },
  "cells": [
    {
      "cell_type": "code",
      "metadata": {
        "id": "-2mE5yG0tnQ0",
        "colab_type": "code",
        "colab": {
          "base_uri": "https://localhost:8080/",
          "height": 204
        },
        "outputId": "cc5a8f1c-0b2c-49d3-8fd8-c2e5aec66552"
      },
      "source": [
        "import pandas as pd\n",
        "\n",
        "lista_de_mercado= pd.Series({\n",
        "                  'carne':8500,\n",
        "                  'pollo':7300,\n",
        "                  'leche':2200,\n",
        "                  'queso':3100,\n",
        "                  'cebolla':2620,\n",
        "                  'ajo': 1300,\n",
        "                  'champiñones':4490,\n",
        "                  'crema de leche':1200,\n",
        "                  'mantequilla':1500,\n",
        "                  'cilantro':700})\n",
        "print(lista_de_mercado)"
      ],
      "execution_count": 3,
      "outputs": [
        {
          "output_type": "stream",
          "text": [
            "carne             8500\n",
            "pollo             7300\n",
            "leche             2200\n",
            "queso             3100\n",
            "cebolla           2620\n",
            "ajo               1300\n",
            "champiñones       4490\n",
            "crema de leche    1200\n",
            "mantequilla       1500\n",
            "cilantro           700\n",
            "dtype: int64\n"
          ],
          "name": "stdout"
        }
      ]
    },
    {
      "cell_type": "markdown",
      "metadata": {
        "id": "fLO2zQ8P0pFX",
        "colab_type": "text"
      },
      "source": [
        ""
      ]
    },
    {
      "cell_type": "code",
      "metadata": {
        "id": "Uo7sFR3RxXfo",
        "colab_type": "code",
        "colab": {
          "base_uri": "https://localhost:8080/",
          "height": 204
        },
        "outputId": "27635e70-7289-470e-8e2b-0048072202df"
      },
      "source": [
        "gasto_mensual= pd.DataFrame({\n",
        "                'enero':[2000,1000,1200,3532,2749],\n",
        "                'febrero':[2300,1200,1300,4545,2635],\n",
        "                'marzo':[2400,1600,1400,2424,24362],\n",
        "                'abril':[1000,600,600,3535,7362],\n",
        "                'mayo':[4587,3455,2331,2424,8764]},index=['carne','pollo','leche','queso','cebolla'])\n",
        "\n",
        "gasto_mensual"
      ],
      "execution_count": 8,
      "outputs": [
        {
          "output_type": "execute_result",
          "data": {
            "text/html": [
              "<div>\n",
              "<style scoped>\n",
              "    .dataframe tbody tr th:only-of-type {\n",
              "        vertical-align: middle;\n",
              "    }\n",
              "\n",
              "    .dataframe tbody tr th {\n",
              "        vertical-align: top;\n",
              "    }\n",
              "\n",
              "    .dataframe thead th {\n",
              "        text-align: right;\n",
              "    }\n",
              "</style>\n",
              "<table border=\"1\" class=\"dataframe\">\n",
              "  <thead>\n",
              "    <tr style=\"text-align: right;\">\n",
              "      <th></th>\n",
              "      <th>enero</th>\n",
              "      <th>febrero</th>\n",
              "      <th>marzo</th>\n",
              "      <th>abril</th>\n",
              "      <th>mayo</th>\n",
              "    </tr>\n",
              "  </thead>\n",
              "  <tbody>\n",
              "    <tr>\n",
              "      <th>carne</th>\n",
              "      <td>2000</td>\n",
              "      <td>2300</td>\n",
              "      <td>2400</td>\n",
              "      <td>1000</td>\n",
              "      <td>4587</td>\n",
              "    </tr>\n",
              "    <tr>\n",
              "      <th>pollo</th>\n",
              "      <td>1000</td>\n",
              "      <td>1200</td>\n",
              "      <td>1600</td>\n",
              "      <td>600</td>\n",
              "      <td>3455</td>\n",
              "    </tr>\n",
              "    <tr>\n",
              "      <th>leche</th>\n",
              "      <td>1200</td>\n",
              "      <td>1300</td>\n",
              "      <td>1400</td>\n",
              "      <td>600</td>\n",
              "      <td>2331</td>\n",
              "    </tr>\n",
              "    <tr>\n",
              "      <th>queso</th>\n",
              "      <td>3532</td>\n",
              "      <td>4545</td>\n",
              "      <td>2424</td>\n",
              "      <td>3535</td>\n",
              "      <td>2424</td>\n",
              "    </tr>\n",
              "    <tr>\n",
              "      <th>cebolla</th>\n",
              "      <td>2749</td>\n",
              "      <td>2635</td>\n",
              "      <td>24362</td>\n",
              "      <td>7362</td>\n",
              "      <td>8764</td>\n",
              "    </tr>\n",
              "  </tbody>\n",
              "</table>\n",
              "</div>"
            ],
            "text/plain": [
              "         enero  febrero  marzo  abril  mayo\n",
              "carne     2000     2300   2400   1000  4587\n",
              "pollo     1000     1200   1600    600  3455\n",
              "leche     1200     1300   1400    600  2331\n",
              "queso     3532     4545   2424   3535  2424\n",
              "cebolla   2749     2635  24362   7362  8764"
            ]
          },
          "metadata": {
            "tags": []
          },
          "execution_count": 8
        }
      ]
    },
    {
      "cell_type": "code",
      "metadata": {
        "id": "HU-6lrfY3nPT",
        "colab_type": "code",
        "colab": {
          "base_uri": "https://localhost:8080/",
          "height": 204
        },
        "outputId": "d08542e6-3d45-4b64-d3d1-e05412b1f858"
      },
      "source": [
        "gasto_mensual[['marzo','febrero']]"
      ],
      "execution_count": 10,
      "outputs": [
        {
          "output_type": "execute_result",
          "data": {
            "text/html": [
              "<div>\n",
              "<style scoped>\n",
              "    .dataframe tbody tr th:only-of-type {\n",
              "        vertical-align: middle;\n",
              "    }\n",
              "\n",
              "    .dataframe tbody tr th {\n",
              "        vertical-align: top;\n",
              "    }\n",
              "\n",
              "    .dataframe thead th {\n",
              "        text-align: right;\n",
              "    }\n",
              "</style>\n",
              "<table border=\"1\" class=\"dataframe\">\n",
              "  <thead>\n",
              "    <tr style=\"text-align: right;\">\n",
              "      <th></th>\n",
              "      <th>marzo</th>\n",
              "      <th>febrero</th>\n",
              "    </tr>\n",
              "  </thead>\n",
              "  <tbody>\n",
              "    <tr>\n",
              "      <th>carne</th>\n",
              "      <td>2400</td>\n",
              "      <td>2300</td>\n",
              "    </tr>\n",
              "    <tr>\n",
              "      <th>pollo</th>\n",
              "      <td>1600</td>\n",
              "      <td>1200</td>\n",
              "    </tr>\n",
              "    <tr>\n",
              "      <th>leche</th>\n",
              "      <td>1400</td>\n",
              "      <td>1300</td>\n",
              "    </tr>\n",
              "    <tr>\n",
              "      <th>queso</th>\n",
              "      <td>2424</td>\n",
              "      <td>4545</td>\n",
              "    </tr>\n",
              "    <tr>\n",
              "      <th>cebolla</th>\n",
              "      <td>24362</td>\n",
              "      <td>2635</td>\n",
              "    </tr>\n",
              "  </tbody>\n",
              "</table>\n",
              "</div>"
            ],
            "text/plain": [
              "         marzo  febrero\n",
              "carne     2400     2300\n",
              "pollo     1600     1200\n",
              "leche     1400     1300\n",
              "queso     2424     4545\n",
              "cebolla  24362     2635"
            ]
          },
          "metadata": {
            "tags": []
          },
          "execution_count": 10
        }
      ]
    },
    {
      "cell_type": "code",
      "metadata": {
        "id": "pkNl-nMp4TBx",
        "colab_type": "code",
        "colab": {
          "base_uri": "https://localhost:8080/",
          "height": 119
        },
        "outputId": "a6e1af5f-bf48-4133-f062-d31d6c2f1a7c"
      },
      "source": [
        "gasto_mensual['abril']"
      ],
      "execution_count": 11,
      "outputs": [
        {
          "output_type": "execute_result",
          "data": {
            "text/plain": [
              "carne      1000\n",
              "pollo       600\n",
              "leche       600\n",
              "queso      3535\n",
              "cebolla    7362\n",
              "Name: abril, dtype: int64"
            ]
          },
          "metadata": {
            "tags": []
          },
          "execution_count": 11
        }
      ]
    }
  ]
}