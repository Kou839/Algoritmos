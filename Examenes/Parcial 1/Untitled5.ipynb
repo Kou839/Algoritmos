{
  "nbformat": 4,
  "nbformat_minor": 0,
  "metadata": {
    "colab": {
      "name": "Untitled5.ipynb",
      "provenance": []
    },
    "kernelspec": {
      "name": "python3",
      "display_name": "Python 3"
    }
  },
  "cells": [
    {
      "cell_type": "code",
      "metadata": {
        "id": "5IYGKeyywvam",
        "colab_type": "code",
        "colab": {
          "base_uri": "https://localhost:8080/",
          "height": 34
        },
        "outputId": "e61a7590-9aa7-4067-c24a-f5d006bcb3bd"
      },
      "source": [
        "import requests \n",
        "url= 'https://listado.mercadolibre.com.co/arte#D[A:arte]' \n",
        "response= requests.get (url)\n",
        "print(response) "
      ],
      "execution_count": 1,
      "outputs": [
        {
          "output_type": "stream",
          "text": [
            "<Response [200]>\n"
          ],
          "name": "stdout"
        }
      ]
    },
    {
      "cell_type": "code",
      "metadata": {
        "id": "3kvmqRUrxlE4",
        "colab_type": "code",
        "colab": {
          "base_uri": "https://localhost:8080/",
          "height": 105
        },
        "outputId": "1c99b3d5-3630-477f-bd3d-620dd2fbc5fb"
      },
      "source": [
        "import bs4 \n",
        "parseo= bs4.BeautifulSoup (response.text, 'html.parser') \n",
        "getDataSelect= lambda clase: parseo.select(clase)\n",
        "dataTitle= parseo.select('.ui-search-item__title')\n",
        "dataPrice= getDataSelect('.price-tag-fraction')\n",
        "print(dataTitle)\n",
        "print(dataPrice) \n",
        "\n",
        "nombreArticulos= []  \n",
        "funcionExtraerTexto= lambda elemento: elemento.text\n",
        "funcionListaDatos= lambda funcion, data: list (map(funcion, data)) \n",
        "nombreArticulos= funcionListaDatos(funcionExtraerTexto, dataTitle) \n",
        "listaDePrecios= funcionListaDatos(funcionExtraerTexto, dataPrice)\n",
        "print(nombreArticulos) \n",
        "print(listaDePrecios)\n",
        "\n",
        "\n"
      ],
      "execution_count": 2,
      "outputs": [
        {
          "output_type": "stream",
          "text": [
            "[<h2 class=\"ui-search-item__title\">88 Shuttle Set Color Grafico Dibujo Pintura Alcohol Arte </h2>, <h2 class=\"ui-search-item__title\">Borrador De Arte Moldeable Staedtler Karat</h2>, <h2 class=\"ui-search-item__title\">Juego Espatulas X 5 Oleo Pintura Acero Inoxidable</h2>, <h2 class=\"ui-search-item__title\">Kit Arte Y Color</h2>, <h2 class=\"ui-search-item__title\">Cuadro Decorativo Economico New York City</h2>, <h2 class=\"ui-search-item__title\">Plastilina Caja X 24 Colores Jumbo</h2>, <h2 class=\"ui-search-item__title\">Marcadores De Arte A Base De Alcohol De Punta Doble, Lineon</h2>, <h2 class=\"ui-search-item__title\">Pintura Acrilica Produart 60cc X12 Unidades</h2>, <h2 class=\"ui-search-item__title\">Pintura Acrílica Al Frió Franco Arte Colores Surtidos 250 Ml</h2>, <h2 class=\"ui-search-item__title\">Kit De Arte Profesional, 58 Piezas De Dibujo Y Boceto,</h2>, <h2 class=\"ui-search-item__title\">Cuadros Para Sala Y Comedor, Diseños De Moda.</h2>, <h2 class=\"ui-search-item__title\">Estuche De Marcador Sharpie Plumon Arte Color Escritura</h2>, <h2 class=\"ui-search-item__title\">Cuadros Comedor Y Sala Abstractos</h2>, <h2 class=\"ui-search-item__title\">Pinceles Pintura Pintar Óleo Acrílico Acuarela Arte. </h2>, <h2 class=\"ui-search-item__title\">Pack Borradores De Arte Staedtler</h2>, <h2 class=\"ui-search-item__title\">Kobwa Profesional Sketch Kit De Dibujo 18 Piezas De Arte De </h2>, <h2 class=\"ui-search-item__title\">Cuadros Bodegones Para Sala Y Comedor</h2>, <h2 class=\"ui-search-item__title\">Kit 12 Pinturas Acrilicas + 6 Metálizadas Orocolor Nail Art </h2>, <h2 class=\"ui-search-item__title\">Cuaderno De Bocetos Argollado Doble Libreta De Diseño Arte</h2>, <h2 class=\"ui-search-item__title\">Pinturas Al Frio Colores Franco Arte Tarrito Por 60 Ml</h2>, <h2 class=\"ui-search-item__title\">Juego De Marcadores De Arte A Base De Alcohol 40 Colores</h2>, <h2 class=\"ui-search-item__title\">Esmalte Uñas Gel Rosalind Uv Led Arte - mL a $1714</h2>, <h2 class=\"ui-search-item__title\">Flores Cuadros Decorativos Grandes Sala Comedor</h2>, <h2 class=\"ui-search-item__title\">Lapices Profesionales Arte Uslon X12 Entrega Inmediata!!</h2>, <h2 class=\"ui-search-item__title\">Tapete Foamy 3 Piezas</h2>, <h2 class=\"ui-search-item__title\">Kit 24  Pinturas Textil  Premium Colores Variados  Orocolor </h2>, <h2 class=\"ui-search-item__title\">Cuadros De Caballos Para Sala Y Comedor</h2>, <h2 class=\"ui-search-item__title\">Marcadores De Arte De Alcohol De 60 Colores, Marcador De Col</h2>, <h2 class=\"ui-search-item__title\">Pintura Acrilica Produart 60cc X12 Unidades</h2>, <h2 class=\"ui-search-item__title\">Pinceles Set X 5  Redondos Talbot</h2>, <h2 class=\"ui-search-item__title\">Borrador De Arte Moldeable Staedtler Karat® 5427 </h2>, <h2 class=\"ui-search-item__title\">Kit De Arte Profesional, 58 Piezas De Dibujo Y Boceto,</h2>, <h2 class=\"ui-search-item__title\">Cuadros Para Sala O Comedor De Arboles</h2>, <h2 class=\"ui-search-item__title\">Marcadores De Arte Tombow Dbp10-56168 Dual Brush Pen, Secund</h2>, <h2 class=\"ui-search-item__title\">Pintura Acrílica Al Frió Franco Arte Colores Surtidos 250 Ml</h2>, <h2 class=\"ui-search-item__title\">Cuadros De Leones De Colores</h2>, <h2 class=\"ui-search-item__title\">Marcadores De Arte De Alcohol De 160 Colores, Juego De Marca</h2>, <h2 class=\"ui-search-item__title\">Kit De 50 Acrilicos Premium Orocolor 60ml</h2>, <h2 class=\"ui-search-item__title\">Barniz 10 0z Brillante O Mate No Oleo Franco Arte</h2>, <h2 class=\"ui-search-item__title\">Cuadros Grandes Para Sala Y Comedor</h2>, <h2 class=\"ui-search-item__title\">Caliart 40100 Colores Arte Marcadores Rotuladores Individual</h2>, <h2 class=\"ui-search-item__title\">Lápices Faber Castell 119065 Para Arte Set 9000 C X12 Unidad</h2>, <h2 class=\"ui-search-item__title\">Colchónetas Camping Para Ejercicio Enrollables</h2>, <h2 class=\"ui-search-item__title\">Marcadores De Arte De Alcohol De 100 Colores, Juego De Marca</h2>, <h2 class=\"ui-search-item__title\">Kit 24 Pinturas Acrilicas Premium Orocolor 60ml</h2>, <h2 class=\"ui-search-item__title\">80 Set Color Marcadores A Base De Alcohol Arte De Dibujo Gra</h2>, <h2 class=\"ui-search-item__title\">Colchónetas Camping Para Ejercicio</h2>, <h2 class=\"ui-search-item__title\">Artify Artist Set De Marcadores De Arte A Base De Alcohol 80</h2>, <h2 class=\"ui-search-item__title\">Kit Del Arte Madisi 100 Unidades - 36 Lápices De Acuarela,</h2>, <h2 class=\"ui-search-item__title\">Caliart 40100 Colores Arte Marcadores Rotuladores Individual</h2>, <h2 class=\"ui-search-item__title\">Kit Para Pintar Por Números Para Adultos Y Niños, Ciervo</h2>, <h2 class=\"ui-search-item__title\">48 Marcadores De Arte En Color Set Ohuhu Pincel De Doble Pun</h2>, <h2 class=\"ui-search-item__title\">Cuadros Para Sala Tipo Cascada De Moda</h2>, <h2 class=\"ui-search-item__title\">Kit Del Arte Madisi 100 Unidades - 36 Lápices De Acuarela,</h2>, <h2 class=\"ui-search-item__title\">Hacer Un Punto De Arte! Markers - Marcadores De Pintura Lava</h2>, <h2 class=\"ui-search-item__title\">Kit De 12 Vitral Solvente De 30ml + Delineador Vitral 60ml</h2>]\n",
            "[<span class=\"price-tag-fraction\">249.000</span>, <span class=\"price-tag-fraction\">6.917</span>, <span class=\"price-tag-fraction\">4.000</span>, <span class=\"price-tag-fraction\">111</span>, <span class=\"price-tag-fraction\">22.000</span>, <span class=\"price-tag-fraction\">611</span>, <span class=\"price-tag-fraction\">121.000</span>, <span class=\"price-tag-fraction\">3.361</span>, <span class=\"price-tag-fraction\">85.000</span>, <span class=\"price-tag-fraction\">2.361</span>, <span class=\"price-tag-fraction\">6.000</span>, <span class=\"price-tag-fraction\">166</span>, <span class=\"price-tag-fraction\">75.900</span>, <span class=\"price-tag-fraction\">2.108</span>, <span class=\"price-tag-fraction\">49.900</span>, <span class=\"price-tag-fraction\">1.386</span>, <span class=\"price-tag-fraction\">12.400</span>, <span class=\"price-tag-fraction\">9.900</span>, <span class=\"price-tag-fraction\">275</span>, <span class=\"price-tag-fraction\">223.900</span>, <span class=\"price-tag-fraction\">6.219</span>, <span class=\"price-tag-fraction\">79.990</span>, <span class=\"price-tag-fraction\">6.666</span>, <span class=\"price-tag-fraction\">68.500</span>, <span class=\"price-tag-fraction\">5.708</span>, <span class=\"price-tag-fraction\">79.990</span>, <span class=\"price-tag-fraction\">6.666</span>, <span class=\"price-tag-fraction\">11.800</span>, <span class=\"price-tag-fraction\">327</span>, <span class=\"price-tag-fraction\">10.000</span>, <span class=\"price-tag-fraction\">277</span>, <span class=\"price-tag-fraction\">126.990</span>, <span class=\"price-tag-fraction\">3.528</span>, <span class=\"price-tag-fraction\">84.990</span>, <span class=\"price-tag-fraction\">7.082</span>, <span class=\"price-tag-fraction\">54.900</span>, <span class=\"price-tag-fraction\">4.575</span>, <span class=\"price-tag-fraction\">18.900</span>, <span class=\"price-tag-fraction\">1.575</span>, <span class=\"price-tag-fraction\">18.900</span>, <span class=\"price-tag-fraction\">15.100</span>, <span class=\"price-tag-fraction\">419</span>, <span class=\"price-tag-fraction\">188.600</span>, <span class=\"price-tag-fraction\">5.239</span>, <span class=\"price-tag-fraction\">12.000</span>, <span class=\"price-tag-fraction\">1.000</span>, <span class=\"price-tag-fraction\">104.990</span>, <span class=\"price-tag-fraction\">8.749</span>, <span class=\"price-tag-fraction\">39.890</span>, <span class=\"price-tag-fraction\">1.108</span>, <span class=\"price-tag-fraction\">1.000</span>, <span class=\"price-tag-fraction\">83</span>, <span class=\"price-tag-fraction\">61.900</span>, <span class=\"price-tag-fraction\">1.719</span>, <span class=\"price-tag-fraction\">84.990</span>, <span class=\"price-tag-fraction\">7.082</span>, <span class=\"price-tag-fraction\">181.990</span>, <span class=\"price-tag-fraction\">5.055</span>, <span class=\"price-tag-fraction\">49.900</span>, <span class=\"price-tag-fraction\">1.386</span>, <span class=\"price-tag-fraction\">13.600</span>, <span class=\"price-tag-fraction\">10.900</span>, <span class=\"price-tag-fraction\">302</span>, <span class=\"price-tag-fraction\">4.300</span>, <span class=\"price-tag-fraction\">119</span>, <span class=\"price-tag-fraction\">217.900</span>, <span class=\"price-tag-fraction\">6.053</span>, <span class=\"price-tag-fraction\">79.990</span>, <span class=\"price-tag-fraction\">6.666</span>, <span class=\"price-tag-fraction\">108.990</span>, <span class=\"price-tag-fraction\">9.082</span>, <span class=\"price-tag-fraction\">12.400</span>, <span class=\"price-tag-fraction\">9.900</span>, <span class=\"price-tag-fraction\">275</span>, <span class=\"price-tag-fraction\">79.990</span>, <span class=\"price-tag-fraction\">6.666</span>, <span class=\"price-tag-fraction\">439.990</span>, <span class=\"price-tag-fraction\">12.222</span>, <span class=\"price-tag-fraction\">159.900</span>, <span class=\"price-tag-fraction\">13.325</span>, <span class=\"price-tag-fraction\">20.500</span>, <span class=\"price-tag-fraction\">1.708</span>, <span class=\"price-tag-fraction\">134.990</span>, <span class=\"price-tag-fraction\">11.249</span>, <span class=\"price-tag-fraction\">316.990</span>, <span class=\"price-tag-fraction\">8.805</span>, <span class=\"price-tag-fraction\">49.990</span>, <span class=\"price-tag-fraction\">1.389</span>, <span class=\"price-tag-fraction\">22.000</span>, <span class=\"price-tag-fraction\">1.833</span>, <span class=\"price-tag-fraction\">301.990</span>, <span class=\"price-tag-fraction\">8.389</span>, <span class=\"price-tag-fraction\">95.900</span>, <span class=\"price-tag-fraction\">7.992</span>, <span class=\"price-tag-fraction\">251.990</span>, <span class=\"price-tag-fraction\">7.000</span>, <span class=\"price-tag-fraction\">31.999</span>, <span class=\"price-tag-fraction\">2.667</span>, <span class=\"price-tag-fraction\">252.990</span>, <span class=\"price-tag-fraction\">7.028</span>, <span class=\"price-tag-fraction\">237.990</span>, <span class=\"price-tag-fraction\">6.611</span>, <span class=\"price-tag-fraction\">156.990</span>, <span class=\"price-tag-fraction\">4.361</span>, <span class=\"price-tag-fraction\">89.900</span>, <span class=\"price-tag-fraction\">2.497</span>, <span class=\"price-tag-fraction\">196.990</span>, <span class=\"price-tag-fraction\">5.472</span>, <span class=\"price-tag-fraction\">79.990</span>, <span class=\"price-tag-fraction\">6.666</span>, <span class=\"price-tag-fraction\">249.817</span>, <span class=\"price-tag-fraction\">20.818</span>, <span class=\"price-tag-fraction\">129.990</span>, <span class=\"price-tag-fraction\">3.611</span>, <span class=\"price-tag-fraction\">51.900</span>, <span class=\"price-tag-fraction\">4.325</span>]\n",
            "['88 Shuttle Set Color Grafico Dibujo Pintura Alcohol Arte ', 'Borrador De Arte Moldeable Staedtler Karat', 'Juego Espatulas X 5 Oleo Pintura Acero Inoxidable', 'Kit Arte Y Color', 'Cuadro Decorativo Economico New York City', 'Plastilina Caja X 24 Colores Jumbo', 'Marcadores De Arte A Base De Alcohol De Punta Doble, Lineon', 'Pintura Acrilica Produart 60cc X12 Unidades', 'Pintura Acrílica Al Frió Franco Arte Colores Surtidos 250 Ml', 'Kit De Arte Profesional, 58 Piezas De Dibujo Y Boceto,', 'Cuadros Para Sala Y Comedor, Diseños De Moda.', 'Estuche De Marcador Sharpie Plumon Arte Color Escritura', 'Cuadros Comedor Y Sala Abstractos', 'Pinceles Pintura Pintar Óleo Acrílico Acuarela Arte. ', 'Pack Borradores De Arte Staedtler', 'Kobwa Profesional Sketch Kit De Dibujo 18 Piezas De Arte De ', 'Cuadros Bodegones Para Sala Y Comedor', 'Kit 12 Pinturas Acrilicas + 6 Metálizadas Orocolor Nail Art ', 'Cuaderno De Bocetos Argollado Doble Libreta De Diseño Arte', 'Pinturas Al Frio Colores Franco Arte Tarrito Por 60 Ml', 'Juego De Marcadores De Arte A Base De Alcohol 40 Colores', 'Esmalte Uñas Gel Rosalind Uv Led Arte - mL a $1714', 'Flores Cuadros Decorativos Grandes Sala Comedor', 'Lapices Profesionales Arte Uslon X12 Entrega Inmediata!!', 'Tapete Foamy 3 Piezas', 'Kit 24  Pinturas Textil  Premium Colores Variados  Orocolor ', 'Cuadros De Caballos Para Sala Y Comedor', 'Marcadores De Arte De Alcohol De 60 Colores, Marcador De Col', 'Pintura Acrilica Produart 60cc X12 Unidades', 'Pinceles Set X 5  Redondos Talbot', 'Borrador De Arte Moldeable Staedtler Karat® 5427 ', 'Kit De Arte Profesional, 58 Piezas De Dibujo Y Boceto,', 'Cuadros Para Sala O Comedor De Arboles', 'Marcadores De Arte Tombow Dbp10-56168 Dual Brush Pen, Secund', 'Pintura Acrílica Al Frió Franco Arte Colores Surtidos 250 Ml', 'Cuadros De Leones De Colores', 'Marcadores De Arte De Alcohol De 160 Colores, Juego De Marca', 'Kit De 50 Acrilicos Premium Orocolor 60ml', 'Barniz 10 0z Brillante O Mate No Oleo Franco Arte', 'Cuadros Grandes Para Sala Y Comedor', 'Caliart 40100 Colores Arte Marcadores Rotuladores Individual', 'Lápices Faber Castell 119065 Para Arte Set 9000 C X12 Unidad', 'Colchónetas Camping Para Ejercicio Enrollables', 'Marcadores De Arte De Alcohol De 100 Colores, Juego De Marca', 'Kit 24 Pinturas Acrilicas Premium Orocolor 60ml', '80 Set Color Marcadores A Base De Alcohol Arte De Dibujo Gra', 'Colchónetas Camping Para Ejercicio', 'Artify Artist Set De Marcadores De Arte A Base De Alcohol 80', 'Kit Del Arte Madisi 100 Unidades - 36 Lápices De Acuarela,', 'Caliart 40100 Colores Arte Marcadores Rotuladores Individual', 'Kit Para Pintar Por Números Para Adultos Y Niños, Ciervo', '48 Marcadores De Arte En Color Set Ohuhu Pincel De Doble Pun', 'Cuadros Para Sala Tipo Cascada De Moda', 'Kit Del Arte Madisi 100 Unidades - 36 Lápices De Acuarela,', 'Hacer Un Punto De Arte! Markers - Marcadores De Pintura Lava', 'Kit De 12 Vitral Solvente De 30ml + Delineador Vitral 60ml']\n",
            "['249.000', '6.917', '4.000', '111', '22.000', '611', '121.000', '3.361', '85.000', '2.361', '6.000', '166', '75.900', '2.108', '49.900', '1.386', '12.400', '9.900', '275', '223.900', '6.219', '79.990', '6.666', '68.500', '5.708', '79.990', '6.666', '11.800', '327', '10.000', '277', '126.990', '3.528', '84.990', '7.082', '54.900', '4.575', '18.900', '1.575', '18.900', '15.100', '419', '188.600', '5.239', '12.000', '1.000', '104.990', '8.749', '39.890', '1.108', '1.000', '83', '61.900', '1.719', '84.990', '7.082', '181.990', '5.055', '49.900', '1.386', '13.600', '10.900', '302', '4.300', '119', '217.900', '6.053', '79.990', '6.666', '108.990', '9.082', '12.400', '9.900', '275', '79.990', '6.666', '439.990', '12.222', '159.900', '13.325', '20.500', '1.708', '134.990', '11.249', '316.990', '8.805', '49.990', '1.389', '22.000', '1.833', '301.990', '8.389', '95.900', '7.992', '251.990', '7.000', '31.999', '2.667', '252.990', '7.028', '237.990', '6.611', '156.990', '4.361', '89.900', '2.497', '196.990', '5.472', '79.990', '6.666', '249.817', '20.818', '129.990', '3.611', '51.900', '4.325']\n"
          ],
          "name": "stdout"
        }
      ]
    },
    {
      "cell_type": "code",
      "metadata": {
        "id": "mZOlxsN31VxH",
        "colab_type": "code",
        "colab": {
          "base_uri": "https://localhost:8080/",
          "height": 34
        },
        "outputId": "cdcd428c-11f9-414e-b464-c740a567be58"
      },
      "source": [
        "import pandas as pd\n",
        "dictArte= {} \n",
        "dictArte ['Titulos']= nombreArticulos[:20] \n",
        "dictArte ['Precios']= listaDePrecios[:20] \n",
        "print(len(nombreArticulos), len(listaDePrecios)) \n",
        "arteDataFrame= pd.DataFrame(dictArte) \n",
        "arteDataFrame.to_csv('Arte.csv', index= False)"
      ],
      "execution_count": 3,
      "outputs": [
        {
          "output_type": "stream",
          "text": [
            "56 116\n"
          ],
          "name": "stdout"
        }
      ]
    },
    {
      "cell_type": "code",
      "metadata": {
        "id": "x-nKyVw33mon",
        "colab_type": "code",
        "colab": {
          "base_uri": "https://localhost:8080/",
          "height": 71
        },
        "outputId": "e1b970da-47c5-4a43-ed7c-6df165fb0f35"
      },
      "source": [
        "\n",
        "\n",
        "agregarArticulo= lambda elemento: 'Articulo: ' + elemento\n",
        "titulosDeArticulos= list (map(agregarArticulo, nombreArticulos)) \n",
        "print(titulosDeArticulos)\n",
        "titulosDeArticulos2= funcionListaDatos (agregarArticulo, nombreArticulos)\n",
        "print(titulosDeArticulos2)\n",
        "dictArte= {} \n",
        "dictArte ['Titulos']= titulosDeArticulos[:56] \n",
        "dictArte ['Precios']= listaDePrecios[:56] \n",
        "arteDF= pd.DataFrame(dictArte) \n",
        "arteDF.to_csv('ArteEqui.csv', index= False)"
      ],
      "execution_count": 6,
      "outputs": [
        {
          "output_type": "stream",
          "text": [
            "['Articulo: 88 Shuttle Set Color Grafico Dibujo Pintura Alcohol Arte ', 'Articulo: Borrador De Arte Moldeable Staedtler Karat', 'Articulo: Juego Espatulas X 5 Oleo Pintura Acero Inoxidable', 'Articulo: Kit Arte Y Color', 'Articulo: Cuadro Decorativo Economico New York City', 'Articulo: Plastilina Caja X 24 Colores Jumbo', 'Articulo: Marcadores De Arte A Base De Alcohol De Punta Doble, Lineon', 'Articulo: Pintura Acrilica Produart 60cc X12 Unidades', 'Articulo: Pintura Acrílica Al Frió Franco Arte Colores Surtidos 250 Ml', 'Articulo: Kit De Arte Profesional, 58 Piezas De Dibujo Y Boceto,', 'Articulo: Cuadros Para Sala Y Comedor, Diseños De Moda.', 'Articulo: Estuche De Marcador Sharpie Plumon Arte Color Escritura', 'Articulo: Cuadros Comedor Y Sala Abstractos', 'Articulo: Pinceles Pintura Pintar Óleo Acrílico Acuarela Arte. ', 'Articulo: Pack Borradores De Arte Staedtler', 'Articulo: Kobwa Profesional Sketch Kit De Dibujo 18 Piezas De Arte De ', 'Articulo: Cuadros Bodegones Para Sala Y Comedor', 'Articulo: Kit 12 Pinturas Acrilicas + 6 Metálizadas Orocolor Nail Art ', 'Articulo: Cuaderno De Bocetos Argollado Doble Libreta De Diseño Arte', 'Articulo: Pinturas Al Frio Colores Franco Arte Tarrito Por 60 Ml', 'Articulo: Juego De Marcadores De Arte A Base De Alcohol 40 Colores', 'Articulo: Esmalte Uñas Gel Rosalind Uv Led Arte - mL a $1714', 'Articulo: Flores Cuadros Decorativos Grandes Sala Comedor', 'Articulo: Lapices Profesionales Arte Uslon X12 Entrega Inmediata!!', 'Articulo: Tapete Foamy 3 Piezas', 'Articulo: Kit 24  Pinturas Textil  Premium Colores Variados  Orocolor ', 'Articulo: Cuadros De Caballos Para Sala Y Comedor', 'Articulo: Marcadores De Arte De Alcohol De 60 Colores, Marcador De Col', 'Articulo: Pintura Acrilica Produart 60cc X12 Unidades', 'Articulo: Pinceles Set X 5  Redondos Talbot', 'Articulo: Borrador De Arte Moldeable Staedtler Karat® 5427 ', 'Articulo: Kit De Arte Profesional, 58 Piezas De Dibujo Y Boceto,', 'Articulo: Cuadros Para Sala O Comedor De Arboles', 'Articulo: Marcadores De Arte Tombow Dbp10-56168 Dual Brush Pen, Secund', 'Articulo: Pintura Acrílica Al Frió Franco Arte Colores Surtidos 250 Ml', 'Articulo: Cuadros De Leones De Colores', 'Articulo: Marcadores De Arte De Alcohol De 160 Colores, Juego De Marca', 'Articulo: Kit De 50 Acrilicos Premium Orocolor 60ml', 'Articulo: Barniz 10 0z Brillante O Mate No Oleo Franco Arte', 'Articulo: Cuadros Grandes Para Sala Y Comedor', 'Articulo: Caliart 40100 Colores Arte Marcadores Rotuladores Individual', 'Articulo: Lápices Faber Castell 119065 Para Arte Set 9000 C X12 Unidad', 'Articulo: Colchónetas Camping Para Ejercicio Enrollables', 'Articulo: Marcadores De Arte De Alcohol De 100 Colores, Juego De Marca', 'Articulo: Kit 24 Pinturas Acrilicas Premium Orocolor 60ml', 'Articulo: 80 Set Color Marcadores A Base De Alcohol Arte De Dibujo Gra', 'Articulo: Colchónetas Camping Para Ejercicio', 'Articulo: Artify Artist Set De Marcadores De Arte A Base De Alcohol 80', 'Articulo: Kit Del Arte Madisi 100 Unidades - 36 Lápices De Acuarela,', 'Articulo: Caliart 40100 Colores Arte Marcadores Rotuladores Individual', 'Articulo: Kit Para Pintar Por Números Para Adultos Y Niños, Ciervo', 'Articulo: 48 Marcadores De Arte En Color Set Ohuhu Pincel De Doble Pun', 'Articulo: Cuadros Para Sala Tipo Cascada De Moda', 'Articulo: Kit Del Arte Madisi 100 Unidades - 36 Lápices De Acuarela,', 'Articulo: Hacer Un Punto De Arte! Markers - Marcadores De Pintura Lava', 'Articulo: Kit De 12 Vitral Solvente De 30ml + Delineador Vitral 60ml']\n",
            "['Articulo: 88 Shuttle Set Color Grafico Dibujo Pintura Alcohol Arte ', 'Articulo: Borrador De Arte Moldeable Staedtler Karat', 'Articulo: Juego Espatulas X 5 Oleo Pintura Acero Inoxidable', 'Articulo: Kit Arte Y Color', 'Articulo: Cuadro Decorativo Economico New York City', 'Articulo: Plastilina Caja X 24 Colores Jumbo', 'Articulo: Marcadores De Arte A Base De Alcohol De Punta Doble, Lineon', 'Articulo: Pintura Acrilica Produart 60cc X12 Unidades', 'Articulo: Pintura Acrílica Al Frió Franco Arte Colores Surtidos 250 Ml', 'Articulo: Kit De Arte Profesional, 58 Piezas De Dibujo Y Boceto,', 'Articulo: Cuadros Para Sala Y Comedor, Diseños De Moda.', 'Articulo: Estuche De Marcador Sharpie Plumon Arte Color Escritura', 'Articulo: Cuadros Comedor Y Sala Abstractos', 'Articulo: Pinceles Pintura Pintar Óleo Acrílico Acuarela Arte. ', 'Articulo: Pack Borradores De Arte Staedtler', 'Articulo: Kobwa Profesional Sketch Kit De Dibujo 18 Piezas De Arte De ', 'Articulo: Cuadros Bodegones Para Sala Y Comedor', 'Articulo: Kit 12 Pinturas Acrilicas + 6 Metálizadas Orocolor Nail Art ', 'Articulo: Cuaderno De Bocetos Argollado Doble Libreta De Diseño Arte', 'Articulo: Pinturas Al Frio Colores Franco Arte Tarrito Por 60 Ml', 'Articulo: Juego De Marcadores De Arte A Base De Alcohol 40 Colores', 'Articulo: Esmalte Uñas Gel Rosalind Uv Led Arte - mL a $1714', 'Articulo: Flores Cuadros Decorativos Grandes Sala Comedor', 'Articulo: Lapices Profesionales Arte Uslon X12 Entrega Inmediata!!', 'Articulo: Tapete Foamy 3 Piezas', 'Articulo: Kit 24  Pinturas Textil  Premium Colores Variados  Orocolor ', 'Articulo: Cuadros De Caballos Para Sala Y Comedor', 'Articulo: Marcadores De Arte De Alcohol De 60 Colores, Marcador De Col', 'Articulo: Pintura Acrilica Produart 60cc X12 Unidades', 'Articulo: Pinceles Set X 5  Redondos Talbot', 'Articulo: Borrador De Arte Moldeable Staedtler Karat® 5427 ', 'Articulo: Kit De Arte Profesional, 58 Piezas De Dibujo Y Boceto,', 'Articulo: Cuadros Para Sala O Comedor De Arboles', 'Articulo: Marcadores De Arte Tombow Dbp10-56168 Dual Brush Pen, Secund', 'Articulo: Pintura Acrílica Al Frió Franco Arte Colores Surtidos 250 Ml', 'Articulo: Cuadros De Leones De Colores', 'Articulo: Marcadores De Arte De Alcohol De 160 Colores, Juego De Marca', 'Articulo: Kit De 50 Acrilicos Premium Orocolor 60ml', 'Articulo: Barniz 10 0z Brillante O Mate No Oleo Franco Arte', 'Articulo: Cuadros Grandes Para Sala Y Comedor', 'Articulo: Caliart 40100 Colores Arte Marcadores Rotuladores Individual', 'Articulo: Lápices Faber Castell 119065 Para Arte Set 9000 C X12 Unidad', 'Articulo: Colchónetas Camping Para Ejercicio Enrollables', 'Articulo: Marcadores De Arte De Alcohol De 100 Colores, Juego De Marca', 'Articulo: Kit 24 Pinturas Acrilicas Premium Orocolor 60ml', 'Articulo: 80 Set Color Marcadores A Base De Alcohol Arte De Dibujo Gra', 'Articulo: Colchónetas Camping Para Ejercicio', 'Articulo: Artify Artist Set De Marcadores De Arte A Base De Alcohol 80', 'Articulo: Kit Del Arte Madisi 100 Unidades - 36 Lápices De Acuarela,', 'Articulo: Caliart 40100 Colores Arte Marcadores Rotuladores Individual', 'Articulo: Kit Para Pintar Por Números Para Adultos Y Niños, Ciervo', 'Articulo: 48 Marcadores De Arte En Color Set Ohuhu Pincel De Doble Pun', 'Articulo: Cuadros Para Sala Tipo Cascada De Moda', 'Articulo: Kit Del Arte Madisi 100 Unidades - 36 Lápices De Acuarela,', 'Articulo: Hacer Un Punto De Arte! Markers - Marcadores De Pintura Lava', 'Articulo: Kit De 12 Vitral Solvente De 30ml + Delineador Vitral 60ml']\n"
          ],
          "name": "stdout"
        }
      ]
    },
    {
      "cell_type": "code",
      "metadata": {
        "id": "I4dz35tt8AEe",
        "colab_type": "code",
        "colab": {
          "base_uri": "https://localhost:8080/",
          "height": 71
        },
        "outputId": "61799190-c945-4a29-aced-2e44c0c724ee"
      },
      "source": [
        "marcador= lambda elemento: 'Marcadores' in elemento \n",
        "caracteres= lambda elemento: len(elemento)<= 80\n",
        "\n",
        "listaDeMarcadores= list (filter(marcador, titulosDeArticulos))\n",
        "listaCaracteres= list (filter(caracteres,listaDeMarcadores))\n",
        "print(listaDeMarcadores) \n",
        "print(listaCaracteres)\n",
        "marcadorSerie= pd.Series(listaDeMarcadores) \n",
        "marcadorSerie.to_csv('Marcadores.csv', index_label='Marcadores')\n",
        "caracteresSerie= pd.Series(listaCaracteres) \n",
        "caracteresSerie.to_csv('Caracteres.csv', index= False)\n",
        "\n"
      ],
      "execution_count": 23,
      "outputs": [
        {
          "output_type": "stream",
          "text": [
            "['Articulo: Marcadores De Arte A Base De Alcohol De Punta Doble, Lineon', 'Articulo: Juego De Marcadores De Arte A Base De Alcohol 40 Colores', 'Articulo: Marcadores De Arte De Alcohol De 60 Colores, Marcador De Col', 'Articulo: Marcadores De Arte Tombow Dbp10-56168 Dual Brush Pen, Secund', 'Articulo: Marcadores De Arte De Alcohol De 160 Colores, Juego De Marca', 'Articulo: Caliart 40100 Colores Arte Marcadores Rotuladores Individual', 'Articulo: Marcadores De Arte De Alcohol De 100 Colores, Juego De Marca', 'Articulo: 80 Set Color Marcadores A Base De Alcohol Arte De Dibujo Gra', 'Articulo: Artify Artist Set De Marcadores De Arte A Base De Alcohol 80', 'Articulo: Caliart 40100 Colores Arte Marcadores Rotuladores Individual', 'Articulo: 48 Marcadores De Arte En Color Set Ohuhu Pincel De Doble Pun', 'Articulo: Hacer Un Punto De Arte! Markers - Marcadores De Pintura Lava']\n",
            "['Articulo: Marcadores De Arte A Base De Alcohol De Punta Doble, Lineon', 'Articulo: Juego De Marcadores De Arte A Base De Alcohol 40 Colores', 'Articulo: Marcadores De Arte De Alcohol De 60 Colores, Marcador De Col', 'Articulo: Marcadores De Arte Tombow Dbp10-56168 Dual Brush Pen, Secund', 'Articulo: Marcadores De Arte De Alcohol De 160 Colores, Juego De Marca', 'Articulo: Caliart 40100 Colores Arte Marcadores Rotuladores Individual', 'Articulo: Marcadores De Arte De Alcohol De 100 Colores, Juego De Marca', 'Articulo: 80 Set Color Marcadores A Base De Alcohol Arte De Dibujo Gra', 'Articulo: Artify Artist Set De Marcadores De Arte A Base De Alcohol 80', 'Articulo: Caliart 40100 Colores Arte Marcadores Rotuladores Individual', 'Articulo: 48 Marcadores De Arte En Color Set Ohuhu Pincel De Doble Pun', 'Articulo: Hacer Un Punto De Arte! Markers - Marcadores De Pintura Lava']\n"
          ],
          "name": "stdout"
        }
      ]
    },
    {
      "cell_type": "code",
      "metadata": {
        "id": "U75kjpMCBTi1",
        "colab_type": "code",
        "colab": {
          "base_uri": "https://localhost:8080/",
          "height": 51
        },
        "outputId": "7612aa8a-cd92-4ef6-f6a6-ded55c8371e2"
      },
      "source": [
        "from functools import reduce \n",
        "\n",
        "largo= lambda elemento: len(elemento)  \n",
        "listaElementos= list (map(largo, titulosDeArticulos)) \n",
        "print(listaElementos)\n",
        "sumar= lambda elemento=0, acumulador=0: acumulador + elemento \n",
        "\n",
        "largoPromedio= reduce(sumar, listaElementos) / len(titulosDeArticulos) \n",
        "print(largoPromedio)\n"
      ],
      "execution_count": 14,
      "outputs": [
        {
          "output_type": "stream",
          "text": [
            "[67, 52, 59, 26, 51, 44, 69, 53, 70, 64, 55, 65, 43, 63, 43, 70, 47, 70, 68, 64, 66, 60, 57, 66, 31, 70, 49, 70, 53, 43, 59, 64, 48, 70, 70, 38, 70, 51, 59, 45, 70, 70, 56, 70, 57, 70, 44, 70, 68, 70, 66, 70, 48, 68, 70, 68]\n",
            "59.232142857142854\n"
          ],
          "name": "stdout"
        }
      ]
    },
    {
      "cell_type": "code",
      "metadata": {
        "id": "UOESBM4DEKJV",
        "colab_type": "code",
        "colab": {
          "base_uri": "https://localhost:8080/",
          "height": 54
        },
        "outputId": "175ea5e6-b48f-4c71-cac0-b6bf2a63b2c9"
      },
      "source": [
        "tamaños= lambda elemento: len(elemento)\n",
        "lista= list (map(tamaños,listaDePrecios)) \n",
        "masLargo= max (lista)\n",
        "divisor= lambda valor: valor / masLargo\n",
        "listaPrecios= list (map(divisor, lista))\n",
        "print(listaPrecios)\n"
      ],
      "execution_count": 27,
      "outputs": [
        {
          "output_type": "stream",
          "text": [
            "[1.0, 0.7142857142857143, 0.7142857142857143, 0.42857142857142855, 0.8571428571428571, 0.42857142857142855, 1.0, 0.7142857142857143, 0.8571428571428571, 0.7142857142857143, 0.7142857142857143, 0.42857142857142855, 0.8571428571428571, 0.7142857142857143, 0.8571428571428571, 0.7142857142857143, 0.8571428571428571, 0.7142857142857143, 0.42857142857142855, 1.0, 0.7142857142857143, 0.8571428571428571, 0.7142857142857143, 0.8571428571428571, 0.7142857142857143, 0.8571428571428571, 0.7142857142857143, 0.8571428571428571, 0.42857142857142855, 0.8571428571428571, 0.42857142857142855, 1.0, 0.7142857142857143, 0.8571428571428571, 0.7142857142857143, 0.8571428571428571, 0.7142857142857143, 0.8571428571428571, 0.7142857142857143, 0.8571428571428571, 0.8571428571428571, 0.42857142857142855, 1.0, 0.7142857142857143, 0.8571428571428571, 0.7142857142857143, 1.0, 0.7142857142857143, 0.8571428571428571, 0.7142857142857143, 0.7142857142857143, 0.2857142857142857, 0.8571428571428571, 0.7142857142857143, 0.8571428571428571, 0.7142857142857143, 1.0, 0.7142857142857143, 0.8571428571428571, 0.7142857142857143, 0.8571428571428571, 0.8571428571428571, 0.42857142857142855, 0.7142857142857143, 0.42857142857142855, 1.0, 0.7142857142857143, 0.8571428571428571, 0.7142857142857143, 1.0, 0.7142857142857143, 0.8571428571428571, 0.7142857142857143, 0.42857142857142855, 0.8571428571428571, 0.7142857142857143, 1.0, 0.8571428571428571, 1.0, 0.8571428571428571, 0.8571428571428571, 0.7142857142857143, 1.0, 0.8571428571428571, 1.0, 0.7142857142857143, 0.8571428571428571, 0.7142857142857143, 0.8571428571428571, 0.7142857142857143, 1.0, 0.7142857142857143, 0.8571428571428571, 0.7142857142857143, 1.0, 0.7142857142857143, 0.8571428571428571, 0.7142857142857143, 1.0, 0.7142857142857143, 1.0, 0.7142857142857143, 1.0, 0.7142857142857143, 0.8571428571428571, 0.7142857142857143, 1.0, 0.7142857142857143, 0.8571428571428571, 0.7142857142857143, 1.0, 0.8571428571428571, 1.0, 0.7142857142857143, 0.8571428571428571, 0.7142857142857143]\n"
          ],
          "name": "stdout"
        }
      ]
    },
    {
      "cell_type": "code",
      "metadata": {
        "id": "i9Ml6lJLDlpJ",
        "colab_type": "code",
        "colab": {
          "base_uri": "https://localhost:8080/",
          "height": 1000
        },
        "outputId": "fc6d518c-2db3-4dbc-e816-77a3c5d5ba2f"
      },
      "source": [
        "arteDF\n"
      ],
      "execution_count": 20,
      "outputs": [
        {
          "output_type": "execute_result",
          "data": {
            "text/html": [
              "<div>\n",
              "<style scoped>\n",
              "    .dataframe tbody tr th:only-of-type {\n",
              "        vertical-align: middle;\n",
              "    }\n",
              "\n",
              "    .dataframe tbody tr th {\n",
              "        vertical-align: top;\n",
              "    }\n",
              "\n",
              "    .dataframe thead th {\n",
              "        text-align: right;\n",
              "    }\n",
              "</style>\n",
              "<table border=\"1\" class=\"dataframe\">\n",
              "  <thead>\n",
              "    <tr style=\"text-align: right;\">\n",
              "      <th></th>\n",
              "      <th>Titulos</th>\n",
              "      <th>Precios</th>\n",
              "    </tr>\n",
              "  </thead>\n",
              "  <tbody>\n",
              "    <tr>\n",
              "      <th>0</th>\n",
              "      <td>Articulo: 88 Shuttle Set Color Grafico Dibujo ...</td>\n",
              "      <td>249.000</td>\n",
              "    </tr>\n",
              "    <tr>\n",
              "      <th>1</th>\n",
              "      <td>Articulo: Borrador De Arte Moldeable Staedtler...</td>\n",
              "      <td>6.917</td>\n",
              "    </tr>\n",
              "    <tr>\n",
              "      <th>2</th>\n",
              "      <td>Articulo: Juego Espatulas X 5 Oleo Pintura Ace...</td>\n",
              "      <td>4.000</td>\n",
              "    </tr>\n",
              "    <tr>\n",
              "      <th>3</th>\n",
              "      <td>Articulo: Kit Arte Y Color</td>\n",
              "      <td>111</td>\n",
              "    </tr>\n",
              "    <tr>\n",
              "      <th>4</th>\n",
              "      <td>Articulo: Cuadro Decorativo Economico New York...</td>\n",
              "      <td>22.000</td>\n",
              "    </tr>\n",
              "    <tr>\n",
              "      <th>5</th>\n",
              "      <td>Articulo: Plastilina Caja X 24 Colores Jumbo</td>\n",
              "      <td>611</td>\n",
              "    </tr>\n",
              "    <tr>\n",
              "      <th>6</th>\n",
              "      <td>Articulo: Marcadores De Arte A Base De Alcohol...</td>\n",
              "      <td>121.000</td>\n",
              "    </tr>\n",
              "    <tr>\n",
              "      <th>7</th>\n",
              "      <td>Articulo: Pintura Acrilica Produart 60cc X12 U...</td>\n",
              "      <td>3.361</td>\n",
              "    </tr>\n",
              "    <tr>\n",
              "      <th>8</th>\n",
              "      <td>Articulo: Pintura Acrílica Al Frió Franco Arte...</td>\n",
              "      <td>85.000</td>\n",
              "    </tr>\n",
              "    <tr>\n",
              "      <th>9</th>\n",
              "      <td>Articulo: Kit De Arte Profesional, 58 Piezas D...</td>\n",
              "      <td>2.361</td>\n",
              "    </tr>\n",
              "    <tr>\n",
              "      <th>10</th>\n",
              "      <td>Articulo: Cuadros Para Sala Y Comedor, Diseños...</td>\n",
              "      <td>6.000</td>\n",
              "    </tr>\n",
              "    <tr>\n",
              "      <th>11</th>\n",
              "      <td>Articulo: Estuche De Marcador Sharpie Plumon A...</td>\n",
              "      <td>166</td>\n",
              "    </tr>\n",
              "    <tr>\n",
              "      <th>12</th>\n",
              "      <td>Articulo: Cuadros Comedor Y Sala Abstractos</td>\n",
              "      <td>75.900</td>\n",
              "    </tr>\n",
              "    <tr>\n",
              "      <th>13</th>\n",
              "      <td>Articulo: Pinceles Pintura Pintar Óleo Acrílic...</td>\n",
              "      <td>2.108</td>\n",
              "    </tr>\n",
              "    <tr>\n",
              "      <th>14</th>\n",
              "      <td>Articulo: Pack Borradores De Arte Staedtler</td>\n",
              "      <td>49.900</td>\n",
              "    </tr>\n",
              "    <tr>\n",
              "      <th>15</th>\n",
              "      <td>Articulo: Kobwa Profesional Sketch Kit De Dibu...</td>\n",
              "      <td>1.386</td>\n",
              "    </tr>\n",
              "    <tr>\n",
              "      <th>16</th>\n",
              "      <td>Articulo: Cuadros Bodegones Para Sala Y Comedor</td>\n",
              "      <td>12.400</td>\n",
              "    </tr>\n",
              "    <tr>\n",
              "      <th>17</th>\n",
              "      <td>Articulo: Kit 12 Pinturas Acrilicas + 6 Metáli...</td>\n",
              "      <td>9.900</td>\n",
              "    </tr>\n",
              "    <tr>\n",
              "      <th>18</th>\n",
              "      <td>Articulo: Cuaderno De Bocetos Argollado Doble ...</td>\n",
              "      <td>275</td>\n",
              "    </tr>\n",
              "    <tr>\n",
              "      <th>19</th>\n",
              "      <td>Articulo: Pinturas Al Frio Colores Franco Arte...</td>\n",
              "      <td>223.900</td>\n",
              "    </tr>\n",
              "    <tr>\n",
              "      <th>20</th>\n",
              "      <td>Articulo: Juego De Marcadores De Arte A Base D...</td>\n",
              "      <td>6.219</td>\n",
              "    </tr>\n",
              "    <tr>\n",
              "      <th>21</th>\n",
              "      <td>Articulo: Esmalte Uñas Gel Rosalind Uv Led Art...</td>\n",
              "      <td>79.990</td>\n",
              "    </tr>\n",
              "    <tr>\n",
              "      <th>22</th>\n",
              "      <td>Articulo: Flores Cuadros Decorativos Grandes S...</td>\n",
              "      <td>6.666</td>\n",
              "    </tr>\n",
              "    <tr>\n",
              "      <th>23</th>\n",
              "      <td>Articulo: Lapices Profesionales Arte Uslon X12...</td>\n",
              "      <td>68.500</td>\n",
              "    </tr>\n",
              "    <tr>\n",
              "      <th>24</th>\n",
              "      <td>Articulo: Tapete Foamy 3 Piezas</td>\n",
              "      <td>5.708</td>\n",
              "    </tr>\n",
              "    <tr>\n",
              "      <th>25</th>\n",
              "      <td>Articulo: Kit 24  Pinturas Textil  Premium Col...</td>\n",
              "      <td>79.990</td>\n",
              "    </tr>\n",
              "    <tr>\n",
              "      <th>26</th>\n",
              "      <td>Articulo: Cuadros De Caballos Para Sala Y Comedor</td>\n",
              "      <td>6.666</td>\n",
              "    </tr>\n",
              "    <tr>\n",
              "      <th>27</th>\n",
              "      <td>Articulo: Marcadores De Arte De Alcohol De 60 ...</td>\n",
              "      <td>11.800</td>\n",
              "    </tr>\n",
              "    <tr>\n",
              "      <th>28</th>\n",
              "      <td>Articulo: Pintura Acrilica Produart 60cc X12 U...</td>\n",
              "      <td>327</td>\n",
              "    </tr>\n",
              "    <tr>\n",
              "      <th>29</th>\n",
              "      <td>Articulo: Pinceles Set X 5  Redondos Talbot</td>\n",
              "      <td>10.000</td>\n",
              "    </tr>\n",
              "    <tr>\n",
              "      <th>30</th>\n",
              "      <td>Articulo: Borrador De Arte Moldeable Staedtler...</td>\n",
              "      <td>277</td>\n",
              "    </tr>\n",
              "    <tr>\n",
              "      <th>31</th>\n",
              "      <td>Articulo: Kit De Arte Profesional, 58 Piezas D...</td>\n",
              "      <td>126.990</td>\n",
              "    </tr>\n",
              "    <tr>\n",
              "      <th>32</th>\n",
              "      <td>Articulo: Cuadros Para Sala O Comedor De Arboles</td>\n",
              "      <td>3.528</td>\n",
              "    </tr>\n",
              "    <tr>\n",
              "      <th>33</th>\n",
              "      <td>Articulo: Marcadores De Arte Tombow Dbp10-5616...</td>\n",
              "      <td>84.990</td>\n",
              "    </tr>\n",
              "    <tr>\n",
              "      <th>34</th>\n",
              "      <td>Articulo: Pintura Acrílica Al Frió Franco Arte...</td>\n",
              "      <td>7.082</td>\n",
              "    </tr>\n",
              "    <tr>\n",
              "      <th>35</th>\n",
              "      <td>Articulo: Cuadros De Leones De Colores</td>\n",
              "      <td>54.900</td>\n",
              "    </tr>\n",
              "    <tr>\n",
              "      <th>36</th>\n",
              "      <td>Articulo: Marcadores De Arte De Alcohol De 160...</td>\n",
              "      <td>4.575</td>\n",
              "    </tr>\n",
              "    <tr>\n",
              "      <th>37</th>\n",
              "      <td>Articulo: Kit De 50 Acrilicos Premium Orocolor...</td>\n",
              "      <td>18.900</td>\n",
              "    </tr>\n",
              "    <tr>\n",
              "      <th>38</th>\n",
              "      <td>Articulo: Barniz 10 0z Brillante O Mate No Ole...</td>\n",
              "      <td>1.575</td>\n",
              "    </tr>\n",
              "    <tr>\n",
              "      <th>39</th>\n",
              "      <td>Articulo: Cuadros Grandes Para Sala Y Comedor</td>\n",
              "      <td>18.900</td>\n",
              "    </tr>\n",
              "    <tr>\n",
              "      <th>40</th>\n",
              "      <td>Articulo: Caliart 40100 Colores Arte Marcadore...</td>\n",
              "      <td>15.100</td>\n",
              "    </tr>\n",
              "    <tr>\n",
              "      <th>41</th>\n",
              "      <td>Articulo: Lápices Faber Castell 119065 Para Ar...</td>\n",
              "      <td>419</td>\n",
              "    </tr>\n",
              "    <tr>\n",
              "      <th>42</th>\n",
              "      <td>Articulo: Colchónetas Camping Para Ejercicio E...</td>\n",
              "      <td>188.600</td>\n",
              "    </tr>\n",
              "    <tr>\n",
              "      <th>43</th>\n",
              "      <td>Articulo: Marcadores De Arte De Alcohol De 100...</td>\n",
              "      <td>5.239</td>\n",
              "    </tr>\n",
              "    <tr>\n",
              "      <th>44</th>\n",
              "      <td>Articulo: Kit 24 Pinturas Acrilicas Premium Or...</td>\n",
              "      <td>12.000</td>\n",
              "    </tr>\n",
              "    <tr>\n",
              "      <th>45</th>\n",
              "      <td>Articulo: 80 Set Color Marcadores A Base De Al...</td>\n",
              "      <td>1.000</td>\n",
              "    </tr>\n",
              "    <tr>\n",
              "      <th>46</th>\n",
              "      <td>Articulo: Colchónetas Camping Para Ejercicio</td>\n",
              "      <td>104.990</td>\n",
              "    </tr>\n",
              "    <tr>\n",
              "      <th>47</th>\n",
              "      <td>Articulo: Artify Artist Set De Marcadores De A...</td>\n",
              "      <td>8.749</td>\n",
              "    </tr>\n",
              "    <tr>\n",
              "      <th>48</th>\n",
              "      <td>Articulo: Kit Del Arte Madisi 100 Unidades - 3...</td>\n",
              "      <td>39.890</td>\n",
              "    </tr>\n",
              "    <tr>\n",
              "      <th>49</th>\n",
              "      <td>Articulo: Caliart 40100 Colores Arte Marcadore...</td>\n",
              "      <td>1.108</td>\n",
              "    </tr>\n",
              "    <tr>\n",
              "      <th>50</th>\n",
              "      <td>Articulo: Kit Para Pintar Por Números Para Adu...</td>\n",
              "      <td>1.000</td>\n",
              "    </tr>\n",
              "    <tr>\n",
              "      <th>51</th>\n",
              "      <td>Articulo: 48 Marcadores De Arte En Color Set O...</td>\n",
              "      <td>83</td>\n",
              "    </tr>\n",
              "    <tr>\n",
              "      <th>52</th>\n",
              "      <td>Articulo: Cuadros Para Sala Tipo Cascada De Moda</td>\n",
              "      <td>61.900</td>\n",
              "    </tr>\n",
              "    <tr>\n",
              "      <th>53</th>\n",
              "      <td>Articulo: Kit Del Arte Madisi 100 Unidades - 3...</td>\n",
              "      <td>1.719</td>\n",
              "    </tr>\n",
              "    <tr>\n",
              "      <th>54</th>\n",
              "      <td>Articulo: Hacer Un Punto De Arte! Markers - Ma...</td>\n",
              "      <td>84.990</td>\n",
              "    </tr>\n",
              "    <tr>\n",
              "      <th>55</th>\n",
              "      <td>Articulo: Kit De 12 Vitral Solvente De 30ml + ...</td>\n",
              "      <td>7.082</td>\n",
              "    </tr>\n",
              "  </tbody>\n",
              "</table>\n",
              "</div>"
            ],
            "text/plain": [
              "                                              Titulos  Precios\n",
              "0   Articulo: 88 Shuttle Set Color Grafico Dibujo ...  249.000\n",
              "1   Articulo: Borrador De Arte Moldeable Staedtler...    6.917\n",
              "2   Articulo: Juego Espatulas X 5 Oleo Pintura Ace...    4.000\n",
              "3                          Articulo: Kit Arte Y Color      111\n",
              "4   Articulo: Cuadro Decorativo Economico New York...   22.000\n",
              "5        Articulo: Plastilina Caja X 24 Colores Jumbo      611\n",
              "6   Articulo: Marcadores De Arte A Base De Alcohol...  121.000\n",
              "7   Articulo: Pintura Acrilica Produart 60cc X12 U...    3.361\n",
              "8   Articulo: Pintura Acrílica Al Frió Franco Arte...   85.000\n",
              "9   Articulo: Kit De Arte Profesional, 58 Piezas D...    2.361\n",
              "10  Articulo: Cuadros Para Sala Y Comedor, Diseños...    6.000\n",
              "11  Articulo: Estuche De Marcador Sharpie Plumon A...      166\n",
              "12        Articulo: Cuadros Comedor Y Sala Abstractos   75.900\n",
              "13  Articulo: Pinceles Pintura Pintar Óleo Acrílic...    2.108\n",
              "14        Articulo: Pack Borradores De Arte Staedtler   49.900\n",
              "15  Articulo: Kobwa Profesional Sketch Kit De Dibu...    1.386\n",
              "16    Articulo: Cuadros Bodegones Para Sala Y Comedor   12.400\n",
              "17  Articulo: Kit 12 Pinturas Acrilicas + 6 Metáli...    9.900\n",
              "18  Articulo: Cuaderno De Bocetos Argollado Doble ...      275\n",
              "19  Articulo: Pinturas Al Frio Colores Franco Arte...  223.900\n",
              "20  Articulo: Juego De Marcadores De Arte A Base D...    6.219\n",
              "21  Articulo: Esmalte Uñas Gel Rosalind Uv Led Art...   79.990\n",
              "22  Articulo: Flores Cuadros Decorativos Grandes S...    6.666\n",
              "23  Articulo: Lapices Profesionales Arte Uslon X12...   68.500\n",
              "24                    Articulo: Tapete Foamy 3 Piezas    5.708\n",
              "25  Articulo: Kit 24  Pinturas Textil  Premium Col...   79.990\n",
              "26  Articulo: Cuadros De Caballos Para Sala Y Comedor    6.666\n",
              "27  Articulo: Marcadores De Arte De Alcohol De 60 ...   11.800\n",
              "28  Articulo: Pintura Acrilica Produart 60cc X12 U...      327\n",
              "29        Articulo: Pinceles Set X 5  Redondos Talbot   10.000\n",
              "30  Articulo: Borrador De Arte Moldeable Staedtler...      277\n",
              "31  Articulo: Kit De Arte Profesional, 58 Piezas D...  126.990\n",
              "32   Articulo: Cuadros Para Sala O Comedor De Arboles    3.528\n",
              "33  Articulo: Marcadores De Arte Tombow Dbp10-5616...   84.990\n",
              "34  Articulo: Pintura Acrílica Al Frió Franco Arte...    7.082\n",
              "35             Articulo: Cuadros De Leones De Colores   54.900\n",
              "36  Articulo: Marcadores De Arte De Alcohol De 160...    4.575\n",
              "37  Articulo: Kit De 50 Acrilicos Premium Orocolor...   18.900\n",
              "38  Articulo: Barniz 10 0z Brillante O Mate No Ole...    1.575\n",
              "39      Articulo: Cuadros Grandes Para Sala Y Comedor   18.900\n",
              "40  Articulo: Caliart 40100 Colores Arte Marcadore...   15.100\n",
              "41  Articulo: Lápices Faber Castell 119065 Para Ar...      419\n",
              "42  Articulo: Colchónetas Camping Para Ejercicio E...  188.600\n",
              "43  Articulo: Marcadores De Arte De Alcohol De 100...    5.239\n",
              "44  Articulo: Kit 24 Pinturas Acrilicas Premium Or...   12.000\n",
              "45  Articulo: 80 Set Color Marcadores A Base De Al...    1.000\n",
              "46       Articulo: Colchónetas Camping Para Ejercicio  104.990\n",
              "47  Articulo: Artify Artist Set De Marcadores De A...    8.749\n",
              "48  Articulo: Kit Del Arte Madisi 100 Unidades - 3...   39.890\n",
              "49  Articulo: Caliart 40100 Colores Arte Marcadore...    1.108\n",
              "50  Articulo: Kit Para Pintar Por Números Para Adu...    1.000\n",
              "51  Articulo: 48 Marcadores De Arte En Color Set O...       83\n",
              "52   Articulo: Cuadros Para Sala Tipo Cascada De Moda   61.900\n",
              "53  Articulo: Kit Del Arte Madisi 100 Unidades - 3...    1.719\n",
              "54  Articulo: Hacer Un Punto De Arte! Markers - Ma...   84.990\n",
              "55  Articulo: Kit De 12 Vitral Solvente De 30ml + ...    7.082"
            ]
          },
          "metadata": {
            "tags": []
          },
          "execution_count": 20
        }
      ]
    },
    {
      "cell_type": "code",
      "metadata": {
        "id": "0T7a5jUuIAbn",
        "colab_type": "code",
        "colab": {
          "base_uri": "https://localhost:8080/",
          "height": 238
        },
        "outputId": "ca12ebd9-c6d3-4df0-95b8-5e6e90040233"
      },
      "source": [
        "marcadorSerie"
      ],
      "execution_count": 24,
      "outputs": [
        {
          "output_type": "execute_result",
          "data": {
            "text/plain": [
              "0     Articulo: Marcadores De Arte A Base De Alcohol...\n",
              "1     Articulo: Juego De Marcadores De Arte A Base D...\n",
              "2     Articulo: Marcadores De Arte De Alcohol De 60 ...\n",
              "3     Articulo: Marcadores De Arte Tombow Dbp10-5616...\n",
              "4     Articulo: Marcadores De Arte De Alcohol De 160...\n",
              "5     Articulo: Caliart 40100 Colores Arte Marcadore...\n",
              "6     Articulo: Marcadores De Arte De Alcohol De 100...\n",
              "7     Articulo: 80 Set Color Marcadores A Base De Al...\n",
              "8     Articulo: Artify Artist Set De Marcadores De A...\n",
              "9     Articulo: Caliart 40100 Colores Arte Marcadore...\n",
              "10    Articulo: 48 Marcadores De Arte En Color Set O...\n",
              "11    Articulo: Hacer Un Punto De Arte! Markers - Ma...\n",
              "dtype: object"
            ]
          },
          "metadata": {
            "tags": []
          },
          "execution_count": 24
        }
      ]
    },
    {
      "cell_type": "code",
      "metadata": {
        "id": "XZvH1cA7IOZj",
        "colab_type": "code",
        "colab": {
          "base_uri": "https://localhost:8080/",
          "height": 238
        },
        "outputId": "dc391c9d-c122-4a53-e3c5-66c3c7f9abc9"
      },
      "source": [
        "caracteresSerie"
      ],
      "execution_count": 25,
      "outputs": [
        {
          "output_type": "execute_result",
          "data": {
            "text/plain": [
              "0     Articulo: Marcadores De Arte A Base De Alcohol...\n",
              "1     Articulo: Juego De Marcadores De Arte A Base D...\n",
              "2     Articulo: Marcadores De Arte De Alcohol De 60 ...\n",
              "3     Articulo: Marcadores De Arte Tombow Dbp10-5616...\n",
              "4     Articulo: Marcadores De Arte De Alcohol De 160...\n",
              "5     Articulo: Caliart 40100 Colores Arte Marcadore...\n",
              "6     Articulo: Marcadores De Arte De Alcohol De 100...\n",
              "7     Articulo: 80 Set Color Marcadores A Base De Al...\n",
              "8     Articulo: Artify Artist Set De Marcadores De A...\n",
              "9     Articulo: Caliart 40100 Colores Arte Marcadore...\n",
              "10    Articulo: 48 Marcadores De Arte En Color Set O...\n",
              "11    Articulo: Hacer Un Punto De Arte! Markers - Ma...\n",
              "dtype: object"
            ]
          },
          "metadata": {
            "tags": []
          },
          "execution_count": 25
        }
      ]
    }
  ]
}